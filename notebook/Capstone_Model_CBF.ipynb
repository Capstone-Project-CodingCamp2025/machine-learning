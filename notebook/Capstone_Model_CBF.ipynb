{
  "nbformat": 4,
  "nbformat_minor": 0,
  "metadata": {
    "colab": {
      "provenance": [],
      "collapsed_sections": [
        "WKqSc5xAwCs_",
        "2Vj8GTZZRuTF",
        "S0CYRwJ9Rzjh"
      ]
    },
    "kernelspec": {
      "name": "python3",
      "display_name": "Python 3"
    },
    "language_info": {
      "name": "python"
    }
  },
  "cells": [
    {
      "cell_type": "markdown",
      "source": [
        "# **1. Import library**"
      ],
      "metadata": {
        "id": "hWi_dmR-vit6"
      }
    },
    {
      "cell_type": "markdown",
      "source": [
        "Menginstall semua depencies yang dibutuhkan"
      ],
      "metadata": {
        "id": "Bfpb06YkQ9ki"
      }
    },
    {
      "cell_type": "code",
      "source": [
        "import pandas as pd\n",
        "import numpy as np\n",
        "import matplotlib.pyplot as plt\n",
        "import seaborn as sns\n",
        "import warnings\n",
        "warnings.filterwarnings('ignore')\n",
        "\n",
        "# Text processing and ML libraries\n",
        "from sklearn.feature_extraction.text import TfidfVectorizer\n",
        "from sklearn.metrics.pairwise import cosine_similarity\n",
        "from sklearn.preprocessing import StandardScaler, MinMaxScaler\n",
        "from sklearn.decomposition import TruncatedSVD\n",
        "import json\n",
        "import re\n",
        "import ast\n",
        "from collections import Counter\n",
        "import os\n",
        "import shutil\n",
        "\n",
        "# Set style for plots\n",
        "plt.style.use('seaborn-v0_8')\n",
        "sns.set_palette(\"husl\")"
      ],
      "metadata": {
        "id": "hg3cYr-cvgaa"
      },
      "execution_count": 11,
      "outputs": []
    },
    {
      "cell_type": "markdown",
      "source": [
        "# **2. Load Dataset**"
      ],
      "metadata": {
        "id": "HWtwqDeVvuKA"
      }
    },
    {
      "cell_type": "code",
      "source": [
        "def load_data():\n",
        "    \"\"\"Load dataset dari file CSV\"\"\"\n",
        "    from google.colab import files\n",
        "    uploaded = files.upload()\n",
        "    filename = list(uploaded.keys())[0]\n",
        "    df = pd.read_csv(filename)\n",
        "\n",
        "    return df\n",
        "\n",
        "df = load_data()\n",
        "print(\"Dataset berhasil dimuat!\")\n",
        "print(f\"Shape: {df.shape}\")\n",
        "print(\"\\nKolom:\", df.columns.tolist())"
      ],
      "metadata": {
        "id": "2X-VHEyFvpn6",
        "colab": {
          "base_uri": "https://localhost:8080/",
          "height": 142
        },
        "outputId": "e3a6c014-1f4d-4324-a692-8ee4f189dd58"
      },
      "execution_count": 2,
      "outputs": [
        {
          "output_type": "display_data",
          "data": {
            "text/plain": [
              "<IPython.core.display.HTML object>"
            ],
            "text/html": [
              "\n",
              "     <input type=\"file\" id=\"files-a98aa5bc-e6b9-4d4e-a3e1-3307a7cadf94\" name=\"files[]\" multiple disabled\n",
              "        style=\"border:none\" />\n",
              "     <output id=\"result-a98aa5bc-e6b9-4d4e-a3e1-3307a7cadf94\">\n",
              "      Upload widget is only available when the cell has been executed in the\n",
              "      current browser session. Please rerun this cell to enable.\n",
              "      </output>\n",
              "      <script>// Copyright 2017 Google LLC\n",
              "//\n",
              "// Licensed under the Apache License, Version 2.0 (the \"License\");\n",
              "// you may not use this file except in compliance with the License.\n",
              "// You may obtain a copy of the License at\n",
              "//\n",
              "//      http://www.apache.org/licenses/LICENSE-2.0\n",
              "//\n",
              "// Unless required by applicable law or agreed to in writing, software\n",
              "// distributed under the License is distributed on an \"AS IS\" BASIS,\n",
              "// WITHOUT WARRANTIES OR CONDITIONS OF ANY KIND, either express or implied.\n",
              "// See the License for the specific language governing permissions and\n",
              "// limitations under the License.\n",
              "\n",
              "/**\n",
              " * @fileoverview Helpers for google.colab Python module.\n",
              " */\n",
              "(function(scope) {\n",
              "function span(text, styleAttributes = {}) {\n",
              "  const element = document.createElement('span');\n",
              "  element.textContent = text;\n",
              "  for (const key of Object.keys(styleAttributes)) {\n",
              "    element.style[key] = styleAttributes[key];\n",
              "  }\n",
              "  return element;\n",
              "}\n",
              "\n",
              "// Max number of bytes which will be uploaded at a time.\n",
              "const MAX_PAYLOAD_SIZE = 100 * 1024;\n",
              "\n",
              "function _uploadFiles(inputId, outputId) {\n",
              "  const steps = uploadFilesStep(inputId, outputId);\n",
              "  const outputElement = document.getElementById(outputId);\n",
              "  // Cache steps on the outputElement to make it available for the next call\n",
              "  // to uploadFilesContinue from Python.\n",
              "  outputElement.steps = steps;\n",
              "\n",
              "  return _uploadFilesContinue(outputId);\n",
              "}\n",
              "\n",
              "// This is roughly an async generator (not supported in the browser yet),\n",
              "// where there are multiple asynchronous steps and the Python side is going\n",
              "// to poll for completion of each step.\n",
              "// This uses a Promise to block the python side on completion of each step,\n",
              "// then passes the result of the previous step as the input to the next step.\n",
              "function _uploadFilesContinue(outputId) {\n",
              "  const outputElement = document.getElementById(outputId);\n",
              "  const steps = outputElement.steps;\n",
              "\n",
              "  const next = steps.next(outputElement.lastPromiseValue);\n",
              "  return Promise.resolve(next.value.promise).then((value) => {\n",
              "    // Cache the last promise value to make it available to the next\n",
              "    // step of the generator.\n",
              "    outputElement.lastPromiseValue = value;\n",
              "    return next.value.response;\n",
              "  });\n",
              "}\n",
              "\n",
              "/**\n",
              " * Generator function which is called between each async step of the upload\n",
              " * process.\n",
              " * @param {string} inputId Element ID of the input file picker element.\n",
              " * @param {string} outputId Element ID of the output display.\n",
              " * @return {!Iterable<!Object>} Iterable of next steps.\n",
              " */\n",
              "function* uploadFilesStep(inputId, outputId) {\n",
              "  const inputElement = document.getElementById(inputId);\n",
              "  inputElement.disabled = false;\n",
              "\n",
              "  const outputElement = document.getElementById(outputId);\n",
              "  outputElement.innerHTML = '';\n",
              "\n",
              "  const pickedPromise = new Promise((resolve) => {\n",
              "    inputElement.addEventListener('change', (e) => {\n",
              "      resolve(e.target.files);\n",
              "    });\n",
              "  });\n",
              "\n",
              "  const cancel = document.createElement('button');\n",
              "  inputElement.parentElement.appendChild(cancel);\n",
              "  cancel.textContent = 'Cancel upload';\n",
              "  const cancelPromise = new Promise((resolve) => {\n",
              "    cancel.onclick = () => {\n",
              "      resolve(null);\n",
              "    };\n",
              "  });\n",
              "\n",
              "  // Wait for the user to pick the files.\n",
              "  const files = yield {\n",
              "    promise: Promise.race([pickedPromise, cancelPromise]),\n",
              "    response: {\n",
              "      action: 'starting',\n",
              "    }\n",
              "  };\n",
              "\n",
              "  cancel.remove();\n",
              "\n",
              "  // Disable the input element since further picks are not allowed.\n",
              "  inputElement.disabled = true;\n",
              "\n",
              "  if (!files) {\n",
              "    return {\n",
              "      response: {\n",
              "        action: 'complete',\n",
              "      }\n",
              "    };\n",
              "  }\n",
              "\n",
              "  for (const file of files) {\n",
              "    const li = document.createElement('li');\n",
              "    li.append(span(file.name, {fontWeight: 'bold'}));\n",
              "    li.append(span(\n",
              "        `(${file.type || 'n/a'}) - ${file.size} bytes, ` +\n",
              "        `last modified: ${\n",
              "            file.lastModifiedDate ? file.lastModifiedDate.toLocaleDateString() :\n",
              "                                    'n/a'} - `));\n",
              "    const percent = span('0% done');\n",
              "    li.appendChild(percent);\n",
              "\n",
              "    outputElement.appendChild(li);\n",
              "\n",
              "    const fileDataPromise = new Promise((resolve) => {\n",
              "      const reader = new FileReader();\n",
              "      reader.onload = (e) => {\n",
              "        resolve(e.target.result);\n",
              "      };\n",
              "      reader.readAsArrayBuffer(file);\n",
              "    });\n",
              "    // Wait for the data to be ready.\n",
              "    let fileData = yield {\n",
              "      promise: fileDataPromise,\n",
              "      response: {\n",
              "        action: 'continue',\n",
              "      }\n",
              "    };\n",
              "\n",
              "    // Use a chunked sending to avoid message size limits. See b/62115660.\n",
              "    let position = 0;\n",
              "    do {\n",
              "      const length = Math.min(fileData.byteLength - position, MAX_PAYLOAD_SIZE);\n",
              "      const chunk = new Uint8Array(fileData, position, length);\n",
              "      position += length;\n",
              "\n",
              "      const base64 = btoa(String.fromCharCode.apply(null, chunk));\n",
              "      yield {\n",
              "        response: {\n",
              "          action: 'append',\n",
              "          file: file.name,\n",
              "          data: base64,\n",
              "        },\n",
              "      };\n",
              "\n",
              "      let percentDone = fileData.byteLength === 0 ?\n",
              "          100 :\n",
              "          Math.round((position / fileData.byteLength) * 100);\n",
              "      percent.textContent = `${percentDone}% done`;\n",
              "\n",
              "    } while (position < fileData.byteLength);\n",
              "  }\n",
              "\n",
              "  // All done.\n",
              "  yield {\n",
              "    response: {\n",
              "      action: 'complete',\n",
              "    }\n",
              "  };\n",
              "}\n",
              "\n",
              "scope.google = scope.google || {};\n",
              "scope.google.colab = scope.google.colab || {};\n",
              "scope.google.colab._files = {\n",
              "  _uploadFiles,\n",
              "  _uploadFilesContinue,\n",
              "};\n",
              "})(self);\n",
              "</script> "
            ]
          },
          "metadata": {}
        },
        {
          "output_type": "stream",
          "name": "stdout",
          "text": [
            "Saving transformed.csv to transformed.csv\n",
            "Dataset berhasil dimuat!\n",
            "Shape: (217, 9)\n",
            "\n",
            "Kolom: ['nama_tempat', 'deskripsi', 'kategori', 'rating', 'jumlah_ulasan', 'alamat', 'link', 'thumbnail', 'gambar']\n"
          ]
        }
      ]
    },
    {
      "cell_type": "markdown",
      "source": [
        "# **3. Data Wrangling**"
      ],
      "metadata": {
        "id": "Ngqhm4q0v7Mc"
      }
    },
    {
      "cell_type": "code",
      "source": [
        "# Check for missing values\n",
        "print(\"\\n❓ Missing Values:\")\n",
        "print(df.isnull().sum())\n",
        "\n",
        "# Clean and prepare the data\n",
        "df_clean = df.copy()\n",
        "\n",
        "# Handle missing values\n",
        "df_clean['rating'] = df_clean['rating'].fillna(df_clean['rating'].median())\n",
        "df_clean['jumlah_ulasan'] = df_clean['jumlah_ulasan'].fillna(0)\n",
        "df_clean['deskripsi'] = df_clean['deskripsi'].fillna('')\n",
        "df_clean['kategori'] = df_clean['kategori'].fillna('Wisata Alam')\n",
        "\n",
        "# Clean text data\n",
        "def clean_text(text):\n",
        "    if pd.isna(text):\n",
        "        return ''\n",
        "    text = str(text).lower()\n",
        "    text = re.sub(r'[^\\w\\s]', ' ', text)\n",
        "    text = re.sub(r'\\s+', ' ', text)\n",
        "    return text.strip()\n",
        "\n",
        "df_clean['deskripsi_clean'] = df_clean['deskripsi'].apply(clean_text)\n",
        "df_clean['kategori_clean'] = df_clean['kategori'].apply(clean_text)\n",
        "df_clean['nama_clean'] = df_clean['nama_tempat'].apply(clean_text)\n",
        "\n",
        "# Extract location information\n",
        "df_clean['provinsi'] = df_clean['alamat'].str.extract(r'(Sumatera Utara|North Sumatra)')\n",
        "df_clean['provinsi'] = df_clean['provinsi'].fillna('Sumatera Utara')\n",
        "\n",
        "print(f\"\\n✅ Cleaned dataset shape: {df_clean.shape}\")\n",
        "print(f\"Unique categories: {df_clean['kategori'].nunique()}\")"
      ],
      "metadata": {
        "colab": {
          "base_uri": "https://localhost:8080/"
        },
        "id": "M_1Fm7GLhE7v",
        "outputId": "b46ab454-3add-47cd-99f3-9cbd0e58e934"
      },
      "execution_count": 3,
      "outputs": [
        {
          "output_type": "stream",
          "name": "stdout",
          "text": [
            "\n",
            "❓ Missing Values:\n",
            "nama_tempat      0\n",
            "deskripsi        0\n",
            "kategori         0\n",
            "rating           0\n",
            "jumlah_ulasan    0\n",
            "alamat           0\n",
            "link             0\n",
            "thumbnail        0\n",
            "gambar           0\n",
            "dtype: int64\n",
            "\n",
            "✅ Cleaned dataset shape: (217, 13)\n",
            "Unique categories: 41\n"
          ]
        }
      ]
    },
    {
      "cell_type": "markdown",
      "source": [
        "# **4. EDA**"
      ],
      "metadata": {
        "id": "JNsKpc4le0qu"
      }
    },
    {
      "cell_type": "code",
      "source": [
        "# Create visualizations\n",
        "fig, axes = plt.subplots(2, 2, figsize=(15, 12))\n",
        "\n",
        "# 1. Distribution of ratings\n",
        "axes[0,0].hist(df_clean['rating'], bins=20, alpha=0.7, color='skyblue', edgecolor='black')\n",
        "axes[0,0].set_title('Distribution of Ratings', fontsize=14, fontweight='bold')\n",
        "axes[0,0].set_xlabel('Rating')\n",
        "axes[0,0].set_ylabel('Frequency')\n",
        "\n",
        "# 2. Categories distribution\n",
        "category_counts = df_clean['kategori'].value_counts().head(10)\n",
        "axes[0,1].bar(range(len(category_counts)), category_counts.values, color='lightcoral')\n",
        "axes[0,1].set_title('Top 10 Tourism Categories', fontsize=14, fontweight='bold')\n",
        "axes[0,1].set_xlabel('Categories')\n",
        "axes[0,1].set_ylabel('Count')\n",
        "axes[0,1].set_xticks(range(len(category_counts)))\n",
        "axes[0,1].set_xticklabels(category_counts.index, rotation=45, ha='right')\n",
        "\n",
        "# 3. Rating vs Number of Reviews\n",
        "axes[1,0].scatter(df_clean['jumlah_ulasan'], df_clean['rating'], alpha=0.6, color='green')\n",
        "axes[1,0].set_title('Rating vs Number of Reviews', fontsize=14, fontweight='bold')\n",
        "axes[1,0].set_xlabel('Number of Reviews')\n",
        "axes[1,0].set_ylabel('Rating')\n",
        "\n",
        "# 4. Rating distribution by category\n",
        "top_categories = df_clean['kategori'].value_counts().head(5).index\n",
        "df_top_cat = df_clean[df_clean['kategori'].isin(top_categories)]\n",
        "axes[1,1].boxplot([df_top_cat[df_top_cat['kategori']==cat]['rating'].values\n",
        "                   for cat in top_categories])\n",
        "axes[1,1].set_title('Rating Distribution by Top Categories', fontsize=14, fontweight='bold')\n",
        "axes[1,1].set_xlabel('Categories')\n",
        "axes[1,1].set_ylabel('Rating')\n",
        "axes[1,1].set_xticklabels(top_categories, rotation=45, ha='right')\n",
        "\n",
        "plt.tight_layout()\n",
        "plt.show()\n",
        "\n",
        "# Statistical summary\n",
        "print(\"\\n📊 Statistical Summary:\")\n",
        "print(df_clean[['rating', 'jumlah_ulasan']].describe())\n",
        "\n",
        "print(f\"\\n🏷️ Category Distribution:\")\n",
        "print(df_clean['kategori'].value_counts())"
      ],
      "metadata": {
        "colab": {
          "base_uri": "https://localhost:8080/",
          "height": 1000
        },
        "id": "7u872aBpwrz0",
        "outputId": "0497c430-05b4-4222-b4a1-ec3c7c8b27c2"
      },
      "execution_count": 4,
      "outputs": [
        {
          "output_type": "display_data",
          "data": {
            "text/plain": [
              "<Figure size 1500x1200 with 4 Axes>"
            ],
            "image/png": "[encoded data removed]"
          },
          "metadata": {}
        },
        {
          "output_type": "stream",
          "name": "stdout",
          "text": [
            "\n",
            "📊 Statistical Summary:\n",
            "           rating  jumlah_ulasan\n",
            "count  217.000000     217.000000\n",
            "mean     4.383871    1669.419355\n",
            "std      0.254529    3312.727309\n",
            "min      3.000000       1.000000\n",
            "25%      4.300000     134.000000\n",
            "50%      4.400000     442.000000\n",
            "75%      4.500000    1537.000000\n",
            "max      5.000000   24427.000000\n",
            "\n",
            "🏷️ Category Distribution:\n",
            "kategori\n",
            "Kuliner               47\n",
            "Air Terjun            18\n",
            "Pemandian Alam        13\n",
            "Situs Sejarah         11\n",
            "Museum                10\n",
            "Gardu Pandang          9\n",
            "Pusat Perbelanjaan     8\n",
            "Taman Rekreasi         7\n",
            "Wisata Religi          6\n",
            "Wisata Edukasi         6\n",
            "Agrowisata             6\n",
            "Danau                  6\n",
            "Pasar Tradisional      5\n",
            "Taman                  5\n",
            "Pantai                 5\n",
            "Monumen                5\n",
            "Bukit                  4\n",
            "Wisata Alam            4\n",
            "Wisata Petualangan     4\n",
            "Taman Satwa            4\n",
            "Puncak                 3\n",
            "Desa Wisata            3\n",
            "Situs Legenda          2\n",
            "Gunung                 2\n",
            "Goa / Ngarai           2\n",
            "Taman Nasional         2\n",
            "Ekowisata Mangrove     2\n",
            "Hutan Wisata           2\n",
            "Ekowisata              2\n",
            "Taman Budaya           2\n",
            "Wisata Budaya          2\n",
            "Kawah                  1\n",
            "Cagar Alam             1\n",
            "Atraksi Budaya         1\n",
            "Galeri Seni            1\n",
            "Pulau                  1\n",
            "Ruang Kreatif          1\n",
            "Istana                 1\n",
            "Candi                  1\n",
            "Kebun Binatang         1\n",
            "Ruang Publik           1\n",
            "Name: count, dtype: int64\n"
          ]
        }
      ]
    },
    {
      "cell_type": "markdown",
      "source": [
        "# **5. Preprocessing**"
      ],
      "metadata": {
        "id": "M6SyKT3uYRQr"
      }
    },
    {
      "cell_type": "code",
      "source": [
        "# Create combined text features for content-based filtering\n",
        "df_clean['combined_features'] = (\n",
        "    df_clean['nama_clean'] + ' ' +\n",
        "    df_clean['deskripsi_clean'] + ' ' +\n",
        "    df_clean['kategori_clean']\n",
        ")\n",
        "\n",
        "# Create popularity score\n",
        "def calculate_popularity_score(rating, num_reviews):\n",
        "    # Weighted rating considering number of reviews\n",
        "    min_reviews = df_clean['jumlah_ulasan'].quantile(0.25)\n",
        "    return (rating * np.log1p(num_reviews)) / (1 + np.exp(-num_reviews/min_reviews))\n",
        "\n",
        "df_clean['popularity_score'] = df_clean.apply(\n",
        "    lambda x: calculate_popularity_score(x['rating'], x['jumlah_ulasan']), axis=1\n",
        ")\n",
        "\n",
        "# Normalize popularity score\n",
        "scaler = MinMaxScaler()\n",
        "df_clean['popularity_normalized'] = scaler.fit_transform(df_clean[['popularity_score']])\n",
        "\n",
        "# Create category encoding for hybrid approach\n",
        "category_encoder = pd.get_dummies(df_clean['kategori'], prefix='cat')\n",
        "df_features = pd.concat([df_clean, category_encoder], axis=1)\n",
        "\n",
        "print(f\"✅ Feature engineering completed!\")\n",
        "print(f\"Combined features sample: {df_clean['combined_features'].iloc[0][:100]}...\")"
      ],
      "metadata": {
        "id": "gyccQT4oYOzf",
        "colab": {
          "base_uri": "https://localhost:8080/"
        },
        "outputId": "c0ed13cb-e544-464e-f304-2e7c5797d06d"
      },
      "execution_count": 5,
      "outputs": [
        {
          "output_type": "stream",
          "name": "stdout",
          "text": [
            "✅ Feature engineering completed!\n",
            "Combined features sample: wisata alam datuk pantai reklamasi terpanjang di sumatra menawarkan pemandangan indah beragam wahana...\n"
          ]
        }
      ]
    },
    {
      "cell_type": "markdown",
      "source": [
        "# **6. Feature Extraction and Cosine Similarity**"
      ],
      "metadata": {
        "id": "a4HM2QVCZMTg"
      }
    },
    {
      "cell_type": "code",
      "source": [
        "# Initialize TF-IDF Vectorizer\n",
        "tfidf = TfidfVectorizer(\n",
        "    max_features=5000,\n",
        "    stop_words='english',\n",
        "    ngram_range=(1, 2),\n",
        "    min_df=1,\n",
        "    max_df=0.8\n",
        ")\n",
        "\n",
        "# Fit and transform the combined features\n",
        "tfidf_matrix = tfidf.fit_transform(df_clean['combined_features'])\n",
        "print(f\"TF-IDF Matrix shape: {tfidf_matrix.shape}\")\n",
        "\n",
        "# Calculate cosine similarity matrix\n",
        "print(\"🔢 Calculating Cosine Similarity...\")\n",
        "cosine_sim = cosine_similarity(tfidf_matrix, tfidf_matrix)\n",
        "print(f\"Cosine Similarity Matrix shape: {cosine_sim.shape}\")\n",
        "\n",
        "# Create indices mapping\n",
        "indices = pd.Series(df_clean.index, index=df_clean['nama_tempat']).drop_duplicates()"
      ],
      "metadata": {
        "colab": {
          "base_uri": "https://localhost:8080/"
        },
        "id": "ezpr3aZgZG2r",
        "outputId": "a236e1a4-1793-4d94-a104-ba260645921c"
      },
      "execution_count": 6,
      "outputs": [
        {
          "output_type": "stream",
          "name": "stdout",
          "text": [
            "TF-IDF Matrix shape: (217, 3210)\n",
            "🔢 Calculating Cosine Similarity...\n",
            "Cosine Similarity Matrix shape: (217, 217)\n"
          ]
        }
      ]
    },
    {
      "cell_type": "markdown",
      "source": [
        "# **7. Recommendation Function**"
      ],
      "metadata": {
        "id": "fF_fw4Qmj7sR"
      }
    },
    {
      "cell_type": "code",
      "source": [
        "def get_recommendations(place_name, cosine_sim=cosine_sim, df=df_clean, top_n=5):\n",
        "    \"\"\"\n",
        "    Get tourism recommendations based on place name\n",
        "    \"\"\"\n",
        "    try:\n",
        "        # Get the index of the place\n",
        "        idx = indices[place_name]\n",
        "\n",
        "        # Get similarity scores for all places\n",
        "        sim_scores = list(enumerate(cosine_sim[idx]))\n",
        "\n",
        "        # Sort places based on similarity scores\n",
        "        sim_scores = sorted(sim_scores, key=lambda x: x[1], reverse=True)\n",
        "\n",
        "        # Get top N similar places (excluding the input place itself)\n",
        "        sim_scores = sim_scores[1:top_n+1]\n",
        "\n",
        "        # Get place indices\n",
        "        place_indices = [i[0] for i in sim_scores]\n",
        "\n",
        "        # Return recommended places with details\n",
        "        recommendations = df.iloc[place_indices][['nama_tempat', 'kategori', 'rating',\n",
        "                                                 'jumlah_ulasan', 'deskripsi', 'alamat']].copy()\n",
        "        recommendations['similarity_score'] = [i[1] for i in sim_scores]\n",
        "\n",
        "        return recommendations\n",
        "\n",
        "    except KeyError:\n",
        "        print(f\"❌ Place '{place_name}' not found in dataset!\")\n",
        "        print(\"Available places:\")\n",
        "        print(df['nama_tempat'].tolist()[:10])\n",
        "        return None\n",
        "\n",
        "def get_popular_recommendations(category=None, top_n=5):\n",
        "    \"\"\"\n",
        "    Get popular tourism recommendations by category\n",
        "    \"\"\"\n",
        "    if category:\n",
        "        filtered_df = df_clean[df_clean['kategori'].str.contains(category, case=False, na=False)]\n",
        "    else:\n",
        "        filtered_df = df_clean\n",
        "\n",
        "    # Sort by popularity score and rating\n",
        "    popular_places = filtered_df.nlargest(top_n, ['popularity_normalized', 'rating'])\n",
        "\n",
        "    return popular_places[['nama_tempat', 'kategori', 'rating', 'jumlah_ulasan',\n",
        "                          'deskripsi', 'alamat', 'popularity_normalized']]\n",
        "\n",
        "def hybrid_recommendations(place_name, category_weight=0.3, popularity_weight=0.3,\n",
        "                          content_weight=0.4, top_n=5):\n",
        "    \"\"\"\n",
        "    Hybrid recommendation combining content-based, category, and popularity\n",
        "    \"\"\"\n",
        "    try:\n",
        "        idx = indices[place_name]\n",
        "        target_category = df_clean.iloc[idx]['kategori']\n",
        "\n",
        "        # Content-based similarity\n",
        "        content_scores = cosine_sim[idx]\n",
        "\n",
        "        # Category similarity\n",
        "        category_sim = np.zeros(len(df_clean))\n",
        "        category_sim[df_clean['kategori'] == target_category] = 1.0\n",
        "\n",
        "        # Popularity scores\n",
        "        popularity_scores = df_clean['popularity_normalized'].values\n",
        "\n",
        "        # Combine scores\n",
        "        hybrid_scores = (content_weight * content_scores +\n",
        "                        category_weight * category_sim +\n",
        "                        popularity_weight * popularity_scores)\n",
        "\n",
        "        # Get top recommendations\n",
        "        sim_scores = list(enumerate(hybrid_scores))\n",
        "        sim_scores = sorted(sim_scores, key=lambda x: x[1], reverse=True)\n",
        "        sim_scores = sim_scores[1:top_n+1]  # Exclude the input place\n",
        "\n",
        "        place_indices = [i[0] for i in sim_scores]\n",
        "        recommendations = df_clean.iloc[place_indices][['nama_tempat', 'kategori', 'rating',\n",
        "                                                      'jumlah_ulasan', 'deskripsi', 'alamat']].copy()\n",
        "        recommendations['hybrid_score'] = [i[1] for i in sim_scores]\n",
        "\n",
        "        return recommendations\n",
        "\n",
        "    except KeyError:\n",
        "        print(f\"❌ Place '{place_name}' not found!\")\n",
        "        return None"
      ],
      "metadata": {
        "id": "SqWe4g2BkA1r"
      },
      "execution_count": 7,
      "outputs": []
    },
    {
      "cell_type": "markdown",
      "source": [
        "# **8. Evaluation**"
      ],
      "metadata": {
        "id": "zGigglluI3cL"
      }
    },
    {
      "cell_type": "code",
      "source": [
        "def evaluate_diversity(recommendations):\n",
        "    \"\"\"Calculate diversity of recommendations based on categories\"\"\"\n",
        "    if recommendations is None or len(recommendations) == 0:\n",
        "        return 0\n",
        "    categories = recommendations['kategori'].tolist()\n",
        "    unique_categories = len(set(categories))\n",
        "    return unique_categories / len(categories)\n",
        "\n",
        "def evaluate_novelty(recommendations, popular_threshold=0.7):\n",
        "    \"\"\"Calculate novelty by measuring how many non-popular items are recommended\"\"\"\n",
        "    if recommendations is None or len(recommendations) == 0:\n",
        "        return 0\n",
        "    if 'popularity_normalized' in recommendations.columns:\n",
        "        novel_items = len(recommendations[recommendations['popularity_normalized'] < popular_threshold])\n",
        "        return novel_items / len(recommendations)\n",
        "    return 0\n",
        "\n",
        "# Test recommendations\n",
        "print(\"\\n🧪 Testing Recommendations...\")\n",
        "test_place = df_clean['nama_tempat'].iloc[0]\n",
        "print(f\"Testing with: {test_place}\")\n",
        "\n",
        "# Content-based recommendations\n",
        "content_recs = get_recommendations(test_place)\n",
        "print(f\"\\n📍 Content-based Recommendations for '{test_place}':\")\n",
        "if content_recs is not None:\n",
        "    print(content_recs[['nama_tempat', 'kategori', 'rating', 'similarity_score']])\n",
        "\n",
        "# Popular recommendations\n",
        "popular_recs = get_popular_recommendations(category='Danau')\n",
        "print(f\"\\n🔥 Popular 'Danau' Recommendations:\")\n",
        "print(popular_recs[['nama_tempat', 'kategori', 'rating', 'jumlah_ulasan']])\n",
        "\n",
        "# Hybrid recommendations\n",
        "hybrid_recs = hybrid_recommendations(test_place)\n",
        "print(f\"\\n🎯 Hybrid Recommendations for '{test_place}':\")\n",
        "if hybrid_recs is not None:\n",
        "    print(hybrid_recs[['nama_tempat', 'kategori', 'rating', 'hybrid_score']])\n",
        "\n",
        "# Calculate evaluation metrics\n",
        "if content_recs is not None:\n",
        "    diversity_score = evaluate_diversity(content_recs)\n",
        "    print(f\"\\n📊 Evaluation Metrics:\")\n",
        "    print(f\"Diversity Score: {diversity_score:.3f}\")\n",
        "    print(f\"Average Rating of Recommendations: {content_recs['rating'].mean():.2f}\")\n",
        "    print(f\"Average Similarity Score: {content_recs['similarity_score'].mean():.3f}\")"
      ],
      "metadata": {
        "id": "-xDLIHzzCdGl",
        "colab": {
          "base_uri": "https://localhost:8080/"
        },
        "outputId": "d1c52bce-3217-44cd-b076-5ae00c7efb64"
      },
      "execution_count": 8,
      "outputs": [
        {
          "output_type": "stream",
          "name": "stdout",
          "text": [
            "\n",
            "🧪 Testing Recommendations...\n",
            "Testing with: Wisata Alam Datuk\n",
            "\n",
            "📍 Content-based Recommendations for 'Wisata Alam Datuk':\n",
            "                                  nama_tempat        kategori  rating  \\\n",
            "32   Wisata Alam Syaakirah The View and Resto         Kuliner     4.4   \n",
            "39                      Wisata Alam Sini Suka  Taman Rekreasi     4.1   \n",
            "16                            Penatapen Doulu   Gardu Pandang     4.5   \n",
            "50                   Wisata Alam Pantai Geger          Pantai     4.2   \n",
            "110                       Pantai Bali Lestari          Pantai     4.1   \n",
            "\n",
            "     similarity_score  \n",
            "32           0.225490  \n",
            "39           0.191239  \n",
            "16           0.184184  \n",
            "50           0.170782  \n",
            "110          0.140266  \n",
            "\n",
            "🔥 Popular 'Danau' Recommendations:\n",
            "                           nama_tempat kategori  rating  jumlah_ulasan\n",
            "23                  Danau Toba Parapat    Danau     4.7         4520.0\n",
            "18                     Danau Lau Kawar    Danau     4.3          910.0\n",
            "13  TAMAN WISATA DANAU SIOMBAK MARELAN    Danau     4.0         1309.0\n",
            "26                  Danau Aek Natonang    Danau     4.4          288.0\n",
            "87             Wisata Danau Palas Asri    Danau     4.3           57.0\n",
            "\n",
            "🎯 Hybrid Recommendations for 'Wisata Alam Datuk':\n",
            "                           nama_tempat            kategori  rating  \\\n",
            "110                Pantai Bali Lestari              Pantai     4.1   \n",
            "50            Wisata Alam Pantai Geger              Pantai     4.2   \n",
            "34                        Tanjung Unta              Pantai     4.4   \n",
            "27   WISATA ALAM PASIR PUTIH PARPAREAN              Pantai     4.7   \n",
            "105                   Plaza Medan Fair  Pusat Perbelanjaan     4.5   \n",
            "\n",
            "     hybrid_score  \n",
            "110      0.577013  \n",
            "50       0.429475  \n",
            "34       0.405026  \n",
            "27       0.382014  \n",
            "105      0.304520  \n",
            "\n",
            "📊 Evaluation Metrics:\n",
            "Diversity Score: 0.800\n",
            "Average Rating of Recommendations: 4.26\n",
            "Average Similarity Score: 0.182\n"
          ]
        }
      ]
    },
    {
      "cell_type": "markdown",
      "source": [
        "# **9. Save Model**"
      ],
      "metadata": {
        "id": "z6dMlf8nkZpp"
      }
    },
    {
      "cell_type": "code",
      "source": [
        "# Prepare data for JSON export\n",
        "model_data = {\n",
        "    'metadata': {\n",
        "        'model_type': 'Content-Based Tourism Recommendation System',\n",
        "        'dataset_size': len(df_clean),\n",
        "        'features_used': ['nama_tempat', 'deskripsi', 'kategori'],\n",
        "        'similarity_method': 'Cosine Similarity with TF-IDF',\n",
        "        'categories': df_clean['kategori'].unique().tolist(),\n",
        "        'date_created': pd.Timestamp.now().strftime('%Y-%m-%d %H:%M:%S')\n",
        "    },\n",
        "    'places_data': [],\n",
        "    'similarity_matrix_shape': cosine_sim.shape,\n",
        "    'evaluation_metrics': {\n",
        "        'diversity_score': diversity_score if 'diversity_score' in locals() else 0,\n",
        "        'average_rating': float(df_clean['rating'].mean()),\n",
        "        'total_categories': int(df_clean['kategori'].nunique())\n",
        "    }\n",
        "}\n",
        "\n",
        "os.makedirs(\"model\", exist_ok=True)\n",
        "\n",
        "# Add places data\n",
        "for idx, row in df_clean.iterrows():\n",
        "    place_data = {\n",
        "        'id': int(idx),\n",
        "        'nama_tempat': row['nama_tempat'],\n",
        "        'kategori': row['kategori'],\n",
        "        'rating': float(row['rating']) if pd.notna(row['rating']) else 0.0,\n",
        "        'jumlah_ulasan': int(row['jumlah_ulasan']) if pd.notna(row['jumlah_ulasan']) else 0,\n",
        "        'deskripsi': row['deskripsi'],\n",
        "        'alamat': row['alamat'],\n",
        "        'popularity_score': float(row['popularity_normalized']),\n",
        "        'combined_features': row['combined_features']\n",
        "    }\n",
        "    model_data['places_data'].append(place_data)\n",
        "\n",
        "# Save to JSON\n",
        "with open('model/tourism_recommendation_model.json', 'w', encoding='utf-8') as f:\n",
        "    json.dump(model_data, f, ensure_ascii=False, indent=2)\n",
        "\n",
        "# Save similarity matrix (as it's too large for JSON)\n",
        "np.save('model/cosine_similarity_matrix.npy', cosine_sim)\n",
        "\n",
        "# Save TF-IDF vectorizer parameters\n",
        "tfidf_params = {\n",
        "    'max_features': 5000,\n",
        "    'ngram_range': [1, 2],\n",
        "    'min_df': 1,\n",
        "    'max_df': 0.8,\n",
        "    'vocabulary_size': len(tfidf.get_feature_names_out())\n",
        "}\n",
        "\n",
        "with open('model/tfidf_parameters.json', 'w') as f:\n",
        "    json.dump(tfidf_params, f, indent=2)\n",
        "\n",
        "!pip freeze > model/requirements.txt\n",
        "\n",
        "print(\"✅ Model and results saved successfully!\")\n",
        "print(\"📁 Folders Model created\")\n",
        "print(\"📁 Files created:\")\n",
        "print(\"  - tourism_recommendation_model.json\")\n",
        "print(\"  - cosine_similarity_matrix.npy\")\n",
        "print(\"  - tfidf_parameters.json\")\n",
        "print(\"  - requirements.txt\")\n",
        "\n",
        "# Zip folder model menjadi cbf_encoder.zip\n",
        "shutil.make_archive('model_cbf', 'zip', 'model')\n",
        "\n",
        "from google.colab import files\n",
        "files.download('model_cbf.zip')\n",
        "\n",
        "print(\"📁 Zip All File to Model_CBF\")\n",
        "print(\"📁 Download the ZIP\")"
      ],
      "metadata": {
        "id": "OyRwjttvkf1y",
        "colab": {
          "base_uri": "https://localhost:8080/",
          "height": 173
        },
        "outputId": "4d2e4a76-059e-4cd2-f95e-543d5e4788f9"
      },
      "execution_count": 12,
      "outputs": [
        {
          "output_type": "stream",
          "name": "stdout",
          "text": [
            "✅ Model and results saved successfully!\n",
            "📁 Folders Model created\n",
            "📁 Files created:\n",
            "  - tourism_recommendation_model.json\n",
            "  - cosine_similarity_matrix.npy\n",
            "  - tfidf_parameters.json\n",
            "  - requirements.txt\n"
          ]
        },
        {
          "output_type": "display_data",
          "data": {
            "text/plain": [
              "<IPython.core.display.Javascript object>"
            ],
            "application/javascript": [
              "\n",
              "    async function download(id, filename, size) {\n",
              "      if (!google.colab.kernel.accessAllowed) {\n",
              "        return;\n",
              "      }\n",
              "      const div = document.createElement('div');\n",
              "      const label = document.createElement('label');\n",
              "      label.textContent = `Downloading \"${filename}\": `;\n",
              "      div.appendChild(label);\n",
              "      const progress = document.createElement('progress');\n",
              "      progress.max = size;\n",
              "      div.appendChild(progress);\n",
              "      document.body.appendChild(div);\n",
              "\n",
              "      const buffers = [];\n",
              "      let downloaded = 0;\n",
              "\n",
              "      const channel = await google.colab.kernel.comms.open(id);\n",
              "      // Send a message to notify the kernel that we're ready.\n",
              "      channel.send({})\n",
              "\n",
              "      for await (const message of channel.messages) {\n",
              "        // Send a message to notify the kernel that we're ready.\n",
              "        channel.send({})\n",
              "        if (message.buffers) {\n",
              "          for (const buffer of message.buffers) {\n",
              "            buffers.push(buffer);\n",
              "            downloaded += buffer.byteLength;\n",
              "            progress.value = downloaded;\n",
              "          }\n",
              "        }\n",
              "      }\n",
              "      const blob = new Blob(buffers, {type: 'application/binary'});\n",
              "      const a = document.createElement('a');\n",
              "      a.href = window.URL.createObjectURL(blob);\n",
              "      a.download = filename;\n",
              "      div.appendChild(a);\n",
              "      a.click();\n",
              "      div.remove();\n",
              "    }\n",
              "  "
            ]
          },
          "metadata": {}
        },
        {
          "output_type": "display_data",
          "data": {
            "text/plain": [
              "<IPython.core.display.Javascript object>"
            ],
            "application/javascript": [
              "download(\"download_490b3b64-38b7-486d-9444-af01b1ec3acb\", \"model_cbf.zip\", 315698)"
            ]
          },
          "metadata": {}
        },
        {
          "output_type": "stream",
          "name": "stdout",
          "text": [
            "📁 Zip All File to Model_CBF\n",
            "📁 Download the ZIP\n"
          ]
        }
      ]
    },
    {
      "cell_type": "markdown",
      "source": [
        "# **10. Inference**\n"
      ],
      "metadata": {
        "id": "RZDG6ZNTIft_"
      }
    },
    {
      "cell_type": "code",
      "source": [
        "print(\"\\n🎯 Inference Examples...\")\n",
        "\n",
        "def interactive_recommendation():\n",
        "    \"\"\"Interactive recommendation function\"\"\"\n",
        "    print(\"\\n🔍 Available Tourism Places:\")\n",
        "    for i, place in enumerate(df_clean['nama_tempat'].head(10), 1):\n",
        "        print(f\"{i}. {place}\")\n",
        "\n",
        "    print(f\"\\nTotal places available: {len(df_clean)}\")\n",
        "\n",
        "    # Example recommendations\n",
        "    example_places = ['Danau Toba Parapat', 'Bukit Indah Simarjarunjung', 'Air Terjun Sikulikap']\n",
        "\n",
        "    for place in example_places:\n",
        "        if place in df_clean['nama_tempat'].values:\n",
        "            print(f\"\\n🏞️ Recommendations for '{place}':\")\n",
        "            recs = get_recommendations(place, top_n=3)\n",
        "            if recs is not None:\n",
        "                for idx, rec in recs.iterrows():\n",
        "                    print(f\"  • {rec['nama_tempat']} ({rec['kategori']}) - Rating: {rec['rating']:.1f}\")\n",
        "\n",
        "interactive_recommendation()\n",
        "\n",
        "print(f\"\\n🎉 Tourism Recommendation System Complete!\")\n",
        "print(f\"📊 Dataset processed: {len(df_clean)} tourism places\")\n",
        "print(f\"🏷️ Categories available: {df_clean['kategori'].nunique()}\")\n",
        "print(f\"⭐ Average rating: {df_clean['rating'].mean():.2f}\")\n",
        "print(f\"🔤 TF-IDF features: {tfidf_matrix.shape[1]}\")\n",
        "print(\"=\"*60)"
      ],
      "metadata": {
        "colab": {
          "base_uri": "https://localhost:8080/"
        },
        "id": "6G6Jie-1I1y_",
        "outputId": "b3190cec-d353-4a64-9437-68402db3682b"
      },
      "execution_count": 13,
      "outputs": [
        {
          "output_type": "stream",
          "name": "stdout",
          "text": [
            "\n",
            "🎯 Inference Examples...\n",
            "\n",
            "🔍 Available Tourism Places:\n",
            "1. Wisata Alam Datuk\n",
            "2. WISATA ALAM KASIH\n",
            "3. Taman Wisata Alam Sibolangit\n",
            "4. Wisata Alam Sikabung-kabung\n",
            "5. Bukit Indah Simarjarunjung\n",
            "6. Bukit Sipisopiso\n",
            "7. Air Terjun Sigura-Gura\n",
            "8. Taman Alam Lumbini Berastagi\n",
            "9. Wisata Batu Katak\n",
            "10. Kawah Putih Dolok Tinggi Raja\n",
            "\n",
            "Total places available: 217\n",
            "\n",
            "🏞️ Recommendations for 'Danau Toba Parapat':\n",
            "  • Danau Lau Kawar (Danau) - Rating: 4.3\n",
            "  • Manigom Nauli (Desa Wisata) - Rating: 4.4\n",
            "  • Danau alam jaya tuntungan (Danau) - Rating: 3.1\n",
            "\n",
            "🏞️ Recommendations for 'Bukit Indah Simarjarunjung':\n",
            "  • Penatapan Simarjarunjung (Gardu Pandang) - Rating: 4.4\n",
            "  • Bukit Sibeabea (Wisata Religi) - Rating: 4.6\n",
            "  • Simarjarunjung carabel (Gardu Pandang) - Rating: 4.1\n",
            "\n",
            "🏞️ Recommendations for 'Air Terjun Sikulikap':\n",
            "  • Air Terjun Sipisopiso (Air Terjun) - Rating: 4.5\n",
            "  • Air Terjun Situmurun (Air Terjun) - Rating: 4.6\n",
            "  • Air Terjun Siringo (Air Terjun) - Rating: 4.5\n",
            "\n",
            "🎉 Tourism Recommendation System Complete!\n",
            "📊 Dataset processed: 217 tourism places\n",
            "🏷️ Categories available: 41\n",
            "⭐ Average rating: 4.38\n",
            "🔤 TF-IDF features: 3210\n",
            "============================================================\n"
          ]
        }
      ]
    }
  ]
}