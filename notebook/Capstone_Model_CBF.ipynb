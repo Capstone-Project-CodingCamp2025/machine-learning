{
  "nbformat": 4,
  "nbformat_minor": 0,
  "metadata": {
    "colab": {
      "provenance": []
    },
    "kernelspec": {
      "name": "python3",
      "display_name": "Python 3"
    },
    "language_info": {
      "name": "python"
    }
  },
  "cells": [
    {
      "cell_type": "markdown",
      "source": [
        "# **1. Import library**"
      ],
      "metadata": {
        "id": "hWi_dmR-vit6"
      }
    },
    {
      "cell_type": "code",
      "source": [
        "import pandas as pd\n",
        "import numpy as np\n",
        "from sklearn.feature_extraction.text import TfidfVectorizer\n",
        "from sklearn.decomposition import TruncatedSVD\n",
        "from sklearn.preprocessing import MinMaxScaler\n",
        "from scipy.sparse import hstack\n",
        "import tensorflow as tf\n",
        "from tensorflow.keras import layers, models, regularizers\n",
        "import json\n",
        "import os\n",
        "import pickle\n",
        "import matplotlib.pyplot as plt\n",
        "import seaborn as sns\n",
        "import subprocess"
      ],
      "metadata": {
        "id": "hg3cYr-cvgaa"
      },
      "execution_count": 1,
      "outputs": []
    },
    {
      "cell_type": "markdown",
      "source": [
        "# **2. Load Dataset**"
      ],
      "metadata": {
        "id": "HWtwqDeVvuKA"
      }
    },
    {
      "cell_type": "code",
      "source": [
        "df = pd.read_csv('CBF.csv')"
      ],
      "metadata": {
        "id": "2X-VHEyFvpn6"
      },
      "execution_count": 2,
      "outputs": []
    },
    {
      "cell_type": "markdown",
      "source": [
        "# **3. Data Wrangling**"
      ],
      "metadata": {
        "id": "Ngqhm4q0v7Mc"
      }
    },
    {
      "cell_type": "markdown",
      "source": [
        "## 3.1. Statistics Descriptive"
      ],
      "metadata": {
        "id": "WKqSc5xAwCs_"
      }
    },
    {
      "cell_type": "code",
      "source": [
        "# Ringkasan data\n",
        "df.info()"
      ],
      "metadata": {
        "colab": {
          "base_uri": "https://localhost:8080/"
        },
        "id": "kX2UQMpOv39-",
        "outputId": "bfa676c0-590f-4502-cacf-f583094a622e"
      },
      "execution_count": 3,
      "outputs": [
        {
          "output_type": "stream",
          "name": "stdout",
          "text": [
            "<class 'pandas.core.frame.DataFrame'>\n",
            "RangeIndex: 295 entries, 0 to 294\n",
            "Data columns (total 8 columns):\n",
            " #   Column         Non-Null Count  Dtype  \n",
            "---  ------         --------------  -----  \n",
            " 0   Unnamed: 0     295 non-null    int64  \n",
            " 1   nama_tempat    295 non-null    object \n",
            " 2   rating         292 non-null    float64\n",
            " 3   jumlah_ulasan  292 non-null    float64\n",
            " 4   alamat         295 non-null    object \n",
            " 5   link           295 non-null    object \n",
            " 6   thumbnail      294 non-null    object \n",
            " 7   kategori       295 non-null    object \n",
            "dtypes: float64(2), int64(1), object(5)\n",
            "memory usage: 18.6+ KB\n"
          ]
        }
      ]
    },
    {
      "cell_type": "code",
      "source": [
        "df.describe()"
      ],
      "metadata": {
        "colab": {
          "base_uri": "https://localhost:8080/",
          "height": 300
        },
        "id": "Uj92r0ZBwfQa",
        "outputId": "59dde1f0-f19f-446f-acf2-490a6ca86faf"
      },
      "execution_count": 4,
      "outputs": [
        {
          "output_type": "execute_result",
          "data": {
            "text/plain": [
              "       Unnamed: 0      rating  jumlah_ulasan\n",
              "count   295.00000  292.000000     292.000000\n",
              "mean    147.00000    4.400000    1487.825342\n",
              "std      85.30338    0.265806    2957.632440\n",
              "min       0.00000    3.000000       1.000000\n",
              "25%      73.50000    4.300000     132.500000\n",
              "50%     147.00000    4.400000     440.000000\n",
              "75%     220.50000    4.600000    1339.000000\n",
              "max     294.00000    5.000000   24427.000000"
            ],
            "text/html": [
              "\n",
              "  <div id=\"df-4f59a6e8-3137-4de5-b1cd-d3bcad23b331\" class=\"colab-df-container\">\n",
              "    <div>\n",
              "<style scoped>\n",
              "    .dataframe tbody tr th:only-of-type {\n",
              "        vertical-align: middle;\n",
              "    }\n",
              "\n",
              "    .dataframe tbody tr th {\n",
              "        vertical-align: top;\n",
              "    }\n",
              "\n",
              "    .dataframe thead th {\n",
              "        text-align: right;\n",
              "    }\n",
              "</style>\n",
              "<table border=\"1\" class=\"dataframe\">\n",
              "  <thead>\n",
              "    <tr style=\"text-align: right;\">\n",
              "      <th></th>\n",
              "      <th>Unnamed: 0</th>\n",
              "      <th>rating</th>\n",
              "      <th>jumlah_ulasan</th>\n",
              "    </tr>\n",
              "  </thead>\n",
              "  <tbody>\n",
              "    <tr>\n",
              "      <th>count</th>\n",
              "      <td>295.00000</td>\n",
              "      <td>292.000000</td>\n",
              "      <td>292.000000</td>\n",
              "    </tr>\n",
              "    <tr>\n",
              "      <th>mean</th>\n",
              "      <td>147.00000</td>\n",
              "      <td>4.400000</td>\n",
              "      <td>1487.825342</td>\n",
              "    </tr>\n",
              "    <tr>\n",
              "      <th>std</th>\n",
              "      <td>85.30338</td>\n",
              "      <td>0.265806</td>\n",
              "      <td>2957.632440</td>\n",
              "    </tr>\n",
              "    <tr>\n",
              "      <th>min</th>\n",
              "      <td>0.00000</td>\n",
              "      <td>3.000000</td>\n",
              "      <td>1.000000</td>\n",
              "    </tr>\n",
              "    <tr>\n",
              "      <th>25%</th>\n",
              "      <td>73.50000</td>\n",
              "      <td>4.300000</td>\n",
              "      <td>132.500000</td>\n",
              "    </tr>\n",
              "    <tr>\n",
              "      <th>50%</th>\n",
              "      <td>147.00000</td>\n",
              "      <td>4.400000</td>\n",
              "      <td>440.000000</td>\n",
              "    </tr>\n",
              "    <tr>\n",
              "      <th>75%</th>\n",
              "      <td>220.50000</td>\n",
              "      <td>4.600000</td>\n",
              "      <td>1339.000000</td>\n",
              "    </tr>\n",
              "    <tr>\n",
              "      <th>max</th>\n",
              "      <td>294.00000</td>\n",
              "      <td>5.000000</td>\n",
              "      <td>24427.000000</td>\n",
              "    </tr>\n",
              "  </tbody>\n",
              "</table>\n",
              "</div>\n",
              "    <div class=\"colab-df-buttons\">\n",
              "\n",
              "  <div class=\"colab-df-container\">\n",
              "    <button class=\"colab-df-convert\" onclick=\"convertToInteractive('df-4f59a6e8-3137-4de5-b1cd-d3bcad23b331')\"\n",
              "            title=\"Convert this dataframe to an interactive table.\"\n",
              "            style=\"display:none;\">\n",
              "\n",
              "  <svg xmlns=\"http://www.w3.org/2000/svg\" height=\"24px\" viewBox=\"0 -960 960 960\">\n",
              "    <path d=\"M120-120v-720h720v720H120Zm60-500h600v-160H180v160Zm220 220h160v-160H400v160Zm0 220h160v-160H400v160ZM180-400h160v-160H180v160Zm440 0h160v-160H620v160ZM180-180h160v-160H180v160Zm440 0h160v-160H620v160Z\"/>\n",
              "  </svg>\n",
              "    </button>\n",
              "\n",
              "  <style>\n",
              "    .colab-df-container {\n",
              "      display:flex;\n",
              "      gap: 12px;\n",
              "    }\n",
              "\n",
              "    .colab-df-convert {\n",
              "      background-color: #E8F0FE;\n",
              "      border: none;\n",
              "      border-radius: 50%;\n",
              "      cursor: pointer;\n",
              "      display: none;\n",
              "      fill: #1967D2;\n",
              "      height: 32px;\n",
              "      padding: 0 0 0 0;\n",
              "      width: 32px;\n",
              "    }\n",
              "\n",
              "    .colab-df-convert:hover {\n",
              "      background-color: #E2EBFA;\n",
              "      box-shadow: 0px 1px 2px rgba(60, 64, 67, 0.3), 0px 1px 3px 1px rgba(60, 64, 67, 0.15);\n",
              "      fill: #174EA6;\n",
              "    }\n",
              "\n",
              "    .colab-df-buttons div {\n",
              "      margin-bottom: 4px;\n",
              "    }\n",
              "\n",
              "    [theme=dark] .colab-df-convert {\n",
              "      background-color: #3B4455;\n",
              "      fill: #D2E3FC;\n",
              "    }\n",
              "\n",
              "    [theme=dark] .colab-df-convert:hover {\n",
              "      background-color: #434B5C;\n",
              "      box-shadow: 0px 1px 3px 1px rgba(0, 0, 0, 0.15);\n",
              "      filter: drop-shadow(0px 1px 2px rgba(0, 0, 0, 0.3));\n",
              "      fill: #FFFFFF;\n",
              "    }\n",
              "  </style>\n",
              "\n",
              "    <script>\n",
              "      const buttonEl =\n",
              "        document.querySelector('#df-4f59a6e8-3137-4de5-b1cd-d3bcad23b331 button.colab-df-convert');\n",
              "      buttonEl.style.display =\n",
              "        google.colab.kernel.accessAllowed ? 'block' : 'none';\n",
              "\n",
              "      async function convertToInteractive(key) {\n",
              "        const element = document.querySelector('#df-4f59a6e8-3137-4de5-b1cd-d3bcad23b331');\n",
              "        const dataTable =\n",
              "          await google.colab.kernel.invokeFunction('convertToInteractive',\n",
              "                                                    [key], {});\n",
              "        if (!dataTable) return;\n",
              "\n",
              "        const docLinkHtml = 'Like what you see? Visit the ' +\n",
              "          '<a target=\"_blank\" href=https://colab.research.google.com/notebooks/data_table.ipynb>data table notebook</a>'\n",
              "          + ' to learn more about interactive tables.';\n",
              "        element.innerHTML = '';\n",
              "        dataTable['output_type'] = 'display_data';\n",
              "        await google.colab.output.renderOutput(dataTable, element);\n",
              "        const docLink = document.createElement('div');\n",
              "        docLink.innerHTML = docLinkHtml;\n",
              "        element.appendChild(docLink);\n",
              "      }\n",
              "    </script>\n",
              "  </div>\n",
              "\n",
              "\n",
              "    <div id=\"df-2388899e-7ead-4f33-b179-599495eaf62d\">\n",
              "      <button class=\"colab-df-quickchart\" onclick=\"quickchart('df-2388899e-7ead-4f33-b179-599495eaf62d')\"\n",
              "                title=\"Suggest charts\"\n",
              "                style=\"display:none;\">\n",
              "\n",
              "<svg xmlns=\"http://www.w3.org/2000/svg\" height=\"24px\"viewBox=\"0 0 24 24\"\n",
              "     width=\"24px\">\n",
              "    <g>\n",
              "        <path d=\"M19 3H5c-1.1 0-2 .9-2 2v14c0 1.1.9 2 2 2h14c1.1 0 2-.9 2-2V5c0-1.1-.9-2-2-2zM9 17H7v-7h2v7zm4 0h-2V7h2v10zm4 0h-2v-4h2v4z\"/>\n",
              "    </g>\n",
              "</svg>\n",
              "      </button>\n",
              "\n",
              "<style>\n",
              "  .colab-df-quickchart {\n",
              "      --bg-color: #E8F0FE;\n",
              "      --fill-color: #1967D2;\n",
              "      --hover-bg-color: #E2EBFA;\n",
              "      --hover-fill-color: #174EA6;\n",
              "      --disabled-fill-color: #AAA;\n",
              "      --disabled-bg-color: #DDD;\n",
              "  }\n",
              "\n",
              "  [theme=dark] .colab-df-quickchart {\n",
              "      --bg-color: #3B4455;\n",
              "      --fill-color: #D2E3FC;\n",
              "      --hover-bg-color: #434B5C;\n",
              "      --hover-fill-color: #FFFFFF;\n",
              "      --disabled-bg-color: #3B4455;\n",
              "      --disabled-fill-color: #666;\n",
              "  }\n",
              "\n",
              "  .colab-df-quickchart {\n",
              "    background-color: var(--bg-color);\n",
              "    border: none;\n",
              "    border-radius: 50%;\n",
              "    cursor: pointer;\n",
              "    display: none;\n",
              "    fill: var(--fill-color);\n",
              "    height: 32px;\n",
              "    padding: 0;\n",
              "    width: 32px;\n",
              "  }\n",
              "\n",
              "  .colab-df-quickchart:hover {\n",
              "    background-color: var(--hover-bg-color);\n",
              "    box-shadow: 0 1px 2px rgba(60, 64, 67, 0.3), 0 1px 3px 1px rgba(60, 64, 67, 0.15);\n",
              "    fill: var(--button-hover-fill-color);\n",
              "  }\n",
              "\n",
              "  .colab-df-quickchart-complete:disabled,\n",
              "  .colab-df-quickchart-complete:disabled:hover {\n",
              "    background-color: var(--disabled-bg-color);\n",
              "    fill: var(--disabled-fill-color);\n",
              "    box-shadow: none;\n",
              "  }\n",
              "\n",
              "  .colab-df-spinner {\n",
              "    border: 2px solid var(--fill-color);\n",
              "    border-color: transparent;\n",
              "    border-bottom-color: var(--fill-color);\n",
              "    animation:\n",
              "      spin 1s steps(1) infinite;\n",
              "  }\n",
              "\n",
              "  @keyframes spin {\n",
              "    0% {\n",
              "      border-color: transparent;\n",
              "      border-bottom-color: var(--fill-color);\n",
              "      border-left-color: var(--fill-color);\n",
              "    }\n",
              "    20% {\n",
              "      border-color: transparent;\n",
              "      border-left-color: var(--fill-color);\n",
              "      border-top-color: var(--fill-color);\n",
              "    }\n",
              "    30% {\n",
              "      border-color: transparent;\n",
              "      border-left-color: var(--fill-color);\n",
              "      border-top-color: var(--fill-color);\n",
              "      border-right-color: var(--fill-color);\n",
              "    }\n",
              "    40% {\n",
              "      border-color: transparent;\n",
              "      border-right-color: var(--fill-color);\n",
              "      border-top-color: var(--fill-color);\n",
              "    }\n",
              "    60% {\n",
              "      border-color: transparent;\n",
              "      border-right-color: var(--fill-color);\n",
              "    }\n",
              "    80% {\n",
              "      border-color: transparent;\n",
              "      border-right-color: var(--fill-color);\n",
              "      border-bottom-color: var(--fill-color);\n",
              "    }\n",
              "    90% {\n",
              "      border-color: transparent;\n",
              "      border-bottom-color: var(--fill-color);\n",
              "    }\n",
              "  }\n",
              "</style>\n",
              "\n",
              "      <script>\n",
              "        async function quickchart(key) {\n",
              "          const quickchartButtonEl =\n",
              "            document.querySelector('#' + key + ' button');\n",
              "          quickchartButtonEl.disabled = true;  // To prevent multiple clicks.\n",
              "          quickchartButtonEl.classList.add('colab-df-spinner');\n",
              "          try {\n",
              "            const charts = await google.colab.kernel.invokeFunction(\n",
              "                'suggestCharts', [key], {});\n",
              "          } catch (error) {\n",
              "            console.error('Error during call to suggestCharts:', error);\n",
              "          }\n",
              "          quickchartButtonEl.classList.remove('colab-df-spinner');\n",
              "          quickchartButtonEl.classList.add('colab-df-quickchart-complete');\n",
              "        }\n",
              "        (() => {\n",
              "          let quickchartButtonEl =\n",
              "            document.querySelector('#df-2388899e-7ead-4f33-b179-599495eaf62d button');\n",
              "          quickchartButtonEl.style.display =\n",
              "            google.colab.kernel.accessAllowed ? 'block' : 'none';\n",
              "        })();\n",
              "      </script>\n",
              "    </div>\n",
              "\n",
              "    </div>\n",
              "  </div>\n"
            ],
            "application/vnd.google.colaboratory.intrinsic+json": {
              "type": "dataframe",
              "summary": "{\n  \"name\": \"df\",\n  \"rows\": 8,\n  \"fields\": [\n    {\n      \"column\": \"Unnamed: 0\",\n      \"properties\": {\n        \"dtype\": \"number\",\n        \"std\": 106.10098876700165,\n        \"min\": 0.0,\n        \"max\": 295.0,\n        \"num_unique_values\": 7,\n        \"samples\": [\n          295.0,\n          147.0,\n          220.5\n        ],\n        \"semantic_type\": \"\",\n        \"description\": \"\"\n      }\n    },\n    {\n      \"column\": \"rating\",\n      \"properties\": {\n        \"dtype\": \"number\",\n        \"std\": 101.9374170165985,\n        \"min\": 0.2658061717910239,\n        \"max\": 292.0,\n        \"num_unique_values\": 8,\n        \"samples\": [\n          4.3999999999999995,\n          4.4,\n          292.0\n        ],\n        \"semantic_type\": \"\",\n        \"description\": \"\"\n      }\n    },\n    {\n      \"column\": \"jumlah_ulasan\",\n      \"properties\": {\n        \"dtype\": \"number\",\n        \"std\": 8358.116004590001,\n        \"min\": 1.0,\n        \"max\": 24427.0,\n        \"num_unique_values\": 8,\n        \"samples\": [\n          1487.8253424657535,\n          440.0,\n          292.0\n        ],\n        \"semantic_type\": \"\",\n        \"description\": \"\"\n      }\n    }\n  ]\n}"
            }
          },
          "metadata": {},
          "execution_count": 4
        }
      ]
    },
    {
      "cell_type": "markdown",
      "source": [
        "## 3.2. Handling Missing Value"
      ],
      "metadata": {
        "id": "aoPbcZjuwLuP"
      }
    },
    {
      "cell_type": "code",
      "source": [
        "# Hapus baris dengan thumbnail kosong karena gambar penting untuk ditampilkan\n",
        "df = df.dropna(subset=['rating', 'jumlah_ulasan', 'thumbnail'])\n",
        "\n",
        "# Pastikan kolom numerik tidak ada NaN\n",
        "df[['rating', 'jumlah_ulasan']] = df[['rating', 'jumlah_ulasan']].fillna(0)\n",
        "\n",
        "# Buat kolom gabungan konten\n",
        "df['content'] = df['nama_tempat'] + ' ' + df['kategori'] + ' ' + df['alamat']"
      ],
      "metadata": {
        "colab": {
          "base_uri": "https://localhost:8080/"
        },
        "id": "ReVuvaHJwKWx",
        "outputId": "32a12a45-ad2e-4cdc-9ccd-839e3ba109ec"
      },
      "execution_count": 5,
      "outputs": [
        {
          "output_type": "stream",
          "name": "stderr",
          "text": [
            "<ipython-input-5-b08f8c14d950>:5: SettingWithCopyWarning: \n",
            "A value is trying to be set on a copy of a slice from a DataFrame.\n",
            "Try using .loc[row_indexer,col_indexer] = value instead\n",
            "\n",
            "See the caveats in the documentation: https://pandas.pydata.org/pandas-docs/stable/user_guide/indexing.html#returning-a-view-versus-a-copy\n",
            "  df[['rating', 'jumlah_ulasan']] = df[['rating', 'jumlah_ulasan']].fillna(0)\n",
            "<ipython-input-5-b08f8c14d950>:8: SettingWithCopyWarning: \n",
            "A value is trying to be set on a copy of a slice from a DataFrame.\n",
            "Try using .loc[row_indexer,col_indexer] = value instead\n",
            "\n",
            "See the caveats in the documentation: https://pandas.pydata.org/pandas-docs/stable/user_guide/indexing.html#returning-a-view-versus-a-copy\n",
            "  df['content'] = df['nama_tempat'] + ' ' + df['kategori'] + ' ' + df['alamat']\n"
          ]
        }
      ]
    },
    {
      "cell_type": "markdown",
      "source": [
        "# **4. Exploratory Data Analysis (EDA)**"
      ],
      "metadata": {
        "id": "9aJ_U2WzwlpP"
      }
    },
    {
      "cell_type": "markdown",
      "source": [
        "## 4.1. Distribusi Rating"
      ],
      "metadata": {
        "id": "5YuGmJU5w0d_"
      }
    },
    {
      "cell_type": "code",
      "source": [
        "plt.figure(figsize=(10, 5))\n",
        "sns.histplot(df['rating'], bins=20, kde=True)\n",
        "plt.title('Distribusi Rating Tempat Wisata')\n",
        "plt.xlabel('Rating')\n",
        "plt.ylabel('Jumlah Tempat')\n",
        "plt.show()"
      ],
      "metadata": {
        "colab": {
          "base_uri": "https://localhost:8080/",
          "height": 487
        },
        "id": "7u872aBpwrz0",
        "outputId": "0fe0980b-7028-4f9a-847d-55ac53f3dc82"
      },
      "execution_count": 6,
      "outputs": [
        {
          "output_type": "display_data",
          "data": {
            "text/plain": [
              "<Figure size 1000x500 with 1 Axes>"
            ],
            "image/png": "[encoded data removed]"
          },
          "metadata": {}
        }
      ]
    },
    {
      "cell_type": "markdown",
      "source": [
        "## 4.2. Boxplot Jumlah Ulasan\n"
      ],
      "metadata": {
        "id": "ODUgQUv-X9m9"
      }
    },
    {
      "cell_type": "code",
      "source": [
        "plt.figure(figsize=(10, 5))\n",
        "sns.boxplot(x=df['jumlah_ulasan'])\n",
        "plt.title('Boxplot Jumlah Ulasan')\n",
        "plt.xlabel('Jumlah Ulasan')\n",
        "plt.show()"
      ],
      "metadata": {
        "colab": {
          "base_uri": "https://localhost:8080/",
          "height": 487
        },
        "id": "-jhDg1L7Xuq0",
        "outputId": "3f6fcee0-e9f1-45a2-d15a-0bd82a630c3d"
      },
      "execution_count": 7,
      "outputs": [
        {
          "output_type": "display_data",
          "data": {
            "text/plain": [
              "<Figure size 1000x500 with 1 Axes>"
            ],
            "image/png": "[encoded data removed]"
          },
          "metadata": {}
        }
      ]
    },
    {
      "cell_type": "markdown",
      "source": [
        "## 4.3. Korelasi antar fitur numerik"
      ],
      "metadata": {
        "id": "42no0oTAYDsU"
      }
    },
    {
      "cell_type": "code",
      "source": [
        "plt.figure(figsize=(8, 5))\n",
        "sns.heatmap(df.corr(numeric_only=True), annot=True, cmap='coolwarm')\n",
        "plt.title('Korelasi Antar Fitur')\n",
        "plt.show()"
      ],
      "metadata": {
        "colab": {
          "base_uri": "https://localhost:8080/",
          "height": 468
        },
        "id": "JtjrmxLiX3lO",
        "outputId": "a440652d-2fa1-4418-cb19-5d3be3513838"
      },
      "execution_count": 8,
      "outputs": [
        {
          "output_type": "display_data",
          "data": {
            "text/plain": [
              "<Figure size 800x500 with 2 Axes>"
            ],
            "image/png": "[encoded data removed]"
          },
          "metadata": {}
        }
      ]
    },
    {
      "cell_type": "markdown",
      "source": [
        "# **5. Preprocessing**"
      ],
      "metadata": {
        "id": "M6SyKT3uYRQr"
      }
    },
    {
      "cell_type": "code",
      "source": [
        "# 5.1 TF-IDF + Dimensionality Reduction\n",
        "from sklearn.feature_extraction import text\n",
        "# Buat list stop-words bahasa Inggris + beberapa kata umum Bahasa Indonesia\n",
        "id_stop = list(text.ENGLISH_STOP_WORDS) + ['yang', 'di', 'ke', 'dari']\n",
        "\n",
        "tfidf = TfidfVectorizer(\n",
        "    stop_words=id_stop,    # sekarang list, bukan frozenset\n",
        "    max_df=0.8,\n",
        "    ngram_range=(1,2)\n",
        ")\n",
        "X_tfidf = tfidf.fit_transform(df['content'])\n",
        "svd = TruncatedSVD(n_components=100, random_state=42)\n",
        "X_svd = svd.fit_transform(X_tfidf)\n",
        "\n",
        "scaler = MinMaxScaler()\n",
        "X_num = scaler.fit_transform(df[['rating', 'jumlah_ulasan']])\n",
        "\n",
        "alpha, beta = 0.5, 2.0\n",
        "X_combined = np.hstack([X_svd * alpha, X_num * beta])\n",
        "print(f\"Combined feature shape: {X_combined.shape}\")"
      ],
      "metadata": {
        "id": "gyccQT4oYOzf",
        "colab": {
          "base_uri": "https://localhost:8080/"
        },
        "outputId": "cb6e3769-113a-43bd-9ebc-e658c77a11fe"
      },
      "execution_count": 9,
      "outputs": [
        {
          "output_type": "stream",
          "name": "stdout",
          "text": [
            "Combined feature shape: (292, 102)\n"
          ]
        }
      ]
    },
    {
      "cell_type": "markdown",
      "source": [
        "# **6. Bangun Model**"
      ],
      "metadata": {
        "id": "a4HM2QVCZMTg"
      }
    },
    {
      "cell_type": "code",
      "source": [
        "input_dim = X_combined.shape[1]\n",
        "inputs = layers.Input(shape=(input_dim,))\n",
        "\n",
        "# Encoder\n",
        "x = layers.Dense(64, activation='relu',\n",
        "                 kernel_regularizer=regularizers.l2(1e-5))(inputs)\n",
        "x = layers.Dense(32, activation='relu',\n",
        "                 kernel_regularizer=regularizers.l2(1e-5))(x)\n",
        "embedding = layers.Dense(16, activation=None, name='embedding')(x)\n",
        "\n",
        "# Decoder\n",
        "x = layers.Dense(32, activation='relu')(embedding)\n",
        "x = layers.Dense(64, activation='relu')(x)\n",
        "# Use linear activation on output\n",
        "output_layer = layers.Dense(input_dim, activation='linear')(x)\n",
        "\n",
        "autoencoder = models.Model(inputs, output_layer)\n",
        "autoencoder.compile(optimizer='adam', loss='mse')\n",
        "autoencoder.summary()"
      ],
      "metadata": {
        "colab": {
          "base_uri": "https://localhost:8080/",
          "height": 355
        },
        "id": "ezpr3aZgZG2r",
        "outputId": "3c529147-9ac9-433a-97ac-011d70cc76da"
      },
      "execution_count": 10,
      "outputs": [
        {
          "output_type": "display_data",
          "data": {
            "text/plain": [
              "\u001b[1mModel: \"functional\"\u001b[0m\n"
            ],
            "text/html": [
              "<pre style=\"white-space:pre;overflow-x:auto;line-height:normal;font-family:Menlo,'DejaVu Sans Mono',consolas,'Courier New',monospace\"><span style=\"font-weight: bold\">Model: \"functional\"</span>\n",
              "</pre>\n"
            ]
          },
          "metadata": {}
        },
        {
          "output_type": "display_data",
          "data": {
            "text/plain": [
              "┏━━━━━━━━━━━━━━━━━━━━━━━━━━━━━━━━━┳━━━━━━━━━━━━━━━━━━━━━━━━┳━━━━━━━━━━━━━━━┓\n",
              "┃\u001b[1m \u001b[0m\u001b[1mLayer (type)                   \u001b[0m\u001b[1m \u001b[0m┃\u001b[1m \u001b[0m\u001b[1mOutput Shape          \u001b[0m\u001b[1m \u001b[0m┃\u001b[1m \u001b[0m\u001b[1m      Param #\u001b[0m\u001b[1m \u001b[0m┃\n",
              "┡━━━━━━━━━━━━━━━━━━━━━━━━━━━━━━━━━╇━━━━━━━━━━━━━━━━━━━━━━━━╇━━━━━━━━━━━━━━━┩\n",
              "│ input_layer (\u001b[38;5;33mInputLayer\u001b[0m)        │ (\u001b[38;5;45mNone\u001b[0m, \u001b[38;5;34m102\u001b[0m)            │             \u001b[38;5;34m0\u001b[0m │\n",
              "├─────────────────────────────────┼────────────────────────┼───────────────┤\n",
              "│ dense (\u001b[38;5;33mDense\u001b[0m)                   │ (\u001b[38;5;45mNone\u001b[0m, \u001b[38;5;34m64\u001b[0m)             │         \u001b[38;5;34m6,592\u001b[0m │\n",
              "├─────────────────────────────────┼────────────────────────┼───────────────┤\n",
              "│ dense_1 (\u001b[38;5;33mDense\u001b[0m)                 │ (\u001b[38;5;45mNone\u001b[0m, \u001b[38;5;34m32\u001b[0m)             │         \u001b[38;5;34m2,080\u001b[0m │\n",
              "├─────────────────────────────────┼────────────────────────┼───────────────┤\n",
              "│ embedding (\u001b[38;5;33mDense\u001b[0m)               │ (\u001b[38;5;45mNone\u001b[0m, \u001b[38;5;34m16\u001b[0m)             │           \u001b[38;5;34m528\u001b[0m │\n",
              "├─────────────────────────────────┼────────────────────────┼───────────────┤\n",
              "│ dense_2 (\u001b[38;5;33mDense\u001b[0m)                 │ (\u001b[38;5;45mNone\u001b[0m, \u001b[38;5;34m32\u001b[0m)             │           \u001b[38;5;34m544\u001b[0m │\n",
              "├─────────────────────────────────┼────────────────────────┼───────────────┤\n",
              "│ dense_3 (\u001b[38;5;33mDense\u001b[0m)                 │ (\u001b[38;5;45mNone\u001b[0m, \u001b[38;5;34m64\u001b[0m)             │         \u001b[38;5;34m2,112\u001b[0m │\n",
              "├─────────────────────────────────┼────────────────────────┼───────────────┤\n",
              "│ dense_4 (\u001b[38;5;33mDense\u001b[0m)                 │ (\u001b[38;5;45mNone\u001b[0m, \u001b[38;5;34m102\u001b[0m)            │         \u001b[38;5;34m6,630\u001b[0m │\n",
              "└─────────────────────────────────┴────────────────────────┴───────────────┘\n"
            ],
            "text/html": [
              "<pre style=\"white-space:pre;overflow-x:auto;line-height:normal;font-family:Menlo,'DejaVu Sans Mono',consolas,'Courier New',monospace\">┏━━━━━━━━━━━━━━━━━━━━━━━━━━━━━━━━━┳━━━━━━━━━━━━━━━━━━━━━━━━┳━━━━━━━━━━━━━━━┓\n",
              "┃<span style=\"font-weight: bold\"> Layer (type)                    </span>┃<span style=\"font-weight: bold\"> Output Shape           </span>┃<span style=\"font-weight: bold\">       Param # </span>┃\n",
              "┡━━━━━━━━━━━━━━━━━━━━━━━━━━━━━━━━━╇━━━━━━━━━━━━━━━━━━━━━━━━╇━━━━━━━━━━━━━━━┩\n",
              "│ input_layer (<span style=\"color: #0087ff; text-decoration-color: #0087ff\">InputLayer</span>)        │ (<span style=\"color: #00d7ff; text-decoration-color: #00d7ff\">None</span>, <span style=\"color: #00af00; text-decoration-color: #00af00\">102</span>)            │             <span style=\"color: #00af00; text-decoration-color: #00af00\">0</span> │\n",
              "├─────────────────────────────────┼────────────────────────┼───────────────┤\n",
              "│ dense (<span style=\"color: #0087ff; text-decoration-color: #0087ff\">Dense</span>)                   │ (<span style=\"color: #00d7ff; text-decoration-color: #00d7ff\">None</span>, <span style=\"color: #00af00; text-decoration-color: #00af00\">64</span>)             │         <span style=\"color: #00af00; text-decoration-color: #00af00\">6,592</span> │\n",
              "├─────────────────────────────────┼────────────────────────┼───────────────┤\n",
              "│ dense_1 (<span style=\"color: #0087ff; text-decoration-color: #0087ff\">Dense</span>)                 │ (<span style=\"color: #00d7ff; text-decoration-color: #00d7ff\">None</span>, <span style=\"color: #00af00; text-decoration-color: #00af00\">32</span>)             │         <span style=\"color: #00af00; text-decoration-color: #00af00\">2,080</span> │\n",
              "├─────────────────────────────────┼────────────────────────┼───────────────┤\n",
              "│ embedding (<span style=\"color: #0087ff; text-decoration-color: #0087ff\">Dense</span>)               │ (<span style=\"color: #00d7ff; text-decoration-color: #00d7ff\">None</span>, <span style=\"color: #00af00; text-decoration-color: #00af00\">16</span>)             │           <span style=\"color: #00af00; text-decoration-color: #00af00\">528</span> │\n",
              "├─────────────────────────────────┼────────────────────────┼───────────────┤\n",
              "│ dense_2 (<span style=\"color: #0087ff; text-decoration-color: #0087ff\">Dense</span>)                 │ (<span style=\"color: #00d7ff; text-decoration-color: #00d7ff\">None</span>, <span style=\"color: #00af00; text-decoration-color: #00af00\">32</span>)             │           <span style=\"color: #00af00; text-decoration-color: #00af00\">544</span> │\n",
              "├─────────────────────────────────┼────────────────────────┼───────────────┤\n",
              "│ dense_3 (<span style=\"color: #0087ff; text-decoration-color: #0087ff\">Dense</span>)                 │ (<span style=\"color: #00d7ff; text-decoration-color: #00d7ff\">None</span>, <span style=\"color: #00af00; text-decoration-color: #00af00\">64</span>)             │         <span style=\"color: #00af00; text-decoration-color: #00af00\">2,112</span> │\n",
              "├─────────────────────────────────┼────────────────────────┼───────────────┤\n",
              "│ dense_4 (<span style=\"color: #0087ff; text-decoration-color: #0087ff\">Dense</span>)                 │ (<span style=\"color: #00d7ff; text-decoration-color: #00d7ff\">None</span>, <span style=\"color: #00af00; text-decoration-color: #00af00\">102</span>)            │         <span style=\"color: #00af00; text-decoration-color: #00af00\">6,630</span> │\n",
              "└─────────────────────────────────┴────────────────────────┴───────────────┘\n",
              "</pre>\n"
            ]
          },
          "metadata": {}
        },
        {
          "output_type": "display_data",
          "data": {
            "text/plain": [
              "\u001b[1m Total params: \u001b[0m\u001b[38;5;34m18,486\u001b[0m (72.21 KB)\n"
            ],
            "text/html": [
              "<pre style=\"white-space:pre;overflow-x:auto;line-height:normal;font-family:Menlo,'DejaVu Sans Mono',consolas,'Courier New',monospace\"><span style=\"font-weight: bold\"> Total params: </span><span style=\"color: #00af00; text-decoration-color: #00af00\">18,486</span> (72.21 KB)\n",
              "</pre>\n"
            ]
          },
          "metadata": {}
        },
        {
          "output_type": "display_data",
          "data": {
            "text/plain": [
              "\u001b[1m Trainable params: \u001b[0m\u001b[38;5;34m18,486\u001b[0m (72.21 KB)\n"
            ],
            "text/html": [
              "<pre style=\"white-space:pre;overflow-x:auto;line-height:normal;font-family:Menlo,'DejaVu Sans Mono',consolas,'Courier New',monospace\"><span style=\"font-weight: bold\"> Trainable params: </span><span style=\"color: #00af00; text-decoration-color: #00af00\">18,486</span> (72.21 KB)\n",
              "</pre>\n"
            ]
          },
          "metadata": {}
        },
        {
          "output_type": "display_data",
          "data": {
            "text/plain": [
              "\u001b[1m Non-trainable params: \u001b[0m\u001b[38;5;34m0\u001b[0m (0.00 B)\n"
            ],
            "text/html": [
              "<pre style=\"white-space:pre;overflow-x:auto;line-height:normal;font-family:Menlo,'DejaVu Sans Mono',consolas,'Courier New',monospace\"><span style=\"font-weight: bold\"> Non-trainable params: </span><span style=\"color: #00af00; text-decoration-color: #00af00\">0</span> (0.00 B)\n",
              "</pre>\n"
            ]
          },
          "metadata": {}
        }
      ]
    },
    {
      "cell_type": "markdown",
      "source": [
        "# **7. Latih Model**"
      ],
      "metadata": {
        "id": "fF_fw4Qmj7sR"
      }
    },
    {
      "cell_type": "code",
      "source": [
        "early_stop = tf.keras.callbacks.EarlyStopping(\n",
        "    monitor='val_loss', patience=5, restore_best_weights=True\n",
        ")\n",
        "history = autoencoder.fit(\n",
        "    X_combined, X_combined,\n",
        "    epochs=100,\n",
        "    batch_size=32,\n",
        "    validation_split=0.2,\n",
        "    callbacks=[early_stop],\n",
        "    verbose=2\n",
        ")"
      ],
      "metadata": {
        "colab": {
          "base_uri": "https://localhost:8080/"
        },
        "id": "SqWe4g2BkA1r",
        "outputId": "41c9499b-6172-4ee8-e8c7-adda878dac7e"
      },
      "execution_count": 11,
      "outputs": [
        {
          "output_type": "stream",
          "name": "stdout",
          "text": [
            "Epoch 1/100\n",
            "8/8 - 6s - 729ms/step - loss: 0.0234 - val_loss: 0.0187\n",
            "Epoch 2/100\n",
            "8/8 - 2s - 255ms/step - loss: 0.0203 - val_loss: 0.0153\n",
            "Epoch 3/100\n",
            "8/8 - 1s - 68ms/step - loss: 0.0155 - val_loss: 0.0098\n",
            "Epoch 4/100\n",
            "8/8 - 1s - 68ms/step - loss: 0.0088 - val_loss: 0.0043\n",
            "Epoch 5/100\n",
            "8/8 - 1s - 65ms/step - loss: 0.0044 - val_loss: 0.0038\n",
            "Epoch 6/100\n",
            "8/8 - 0s - 35ms/step - loss: 0.0038 - val_loss: 0.0033\n",
            "Epoch 7/100\n",
            "8/8 - 0s - 28ms/step - loss: 0.0034 - val_loss: 0.0030\n",
            "Epoch 8/100\n",
            "8/8 - 0s - 37ms/step - loss: 0.0032 - val_loss: 0.0028\n",
            "Epoch 9/100\n",
            "8/8 - 0s - 26ms/step - loss: 0.0031 - val_loss: 0.0027\n",
            "Epoch 10/100\n",
            "8/8 - 0s - 17ms/step - loss: 0.0030 - val_loss: 0.0027\n",
            "Epoch 11/100\n",
            "8/8 - 0s - 18ms/step - loss: 0.0029 - val_loss: 0.0027\n",
            "Epoch 12/100\n",
            "8/8 - 0s - 17ms/step - loss: 0.0029 - val_loss: 0.0026\n",
            "Epoch 13/100\n",
            "8/8 - 0s - 17ms/step - loss: 0.0028 - val_loss: 0.0025\n",
            "Epoch 14/100\n",
            "8/8 - 0s - 18ms/step - loss: 0.0028 - val_loss: 0.0025\n",
            "Epoch 15/100\n",
            "8/8 - 0s - 17ms/step - loss: 0.0027 - val_loss: 0.0025\n",
            "Epoch 16/100\n",
            "8/8 - 0s - 18ms/step - loss: 0.0027 - val_loss: 0.0024\n",
            "Epoch 17/100\n",
            "8/8 - 0s - 13ms/step - loss: 0.0027 - val_loss: 0.0024\n",
            "Epoch 18/100\n",
            "8/8 - 0s - 18ms/step - loss: 0.0026 - val_loss: 0.0023\n",
            "Epoch 19/100\n",
            "8/8 - 0s - 18ms/step - loss: 0.0026 - val_loss: 0.0023\n",
            "Epoch 20/100\n",
            "8/8 - 0s - 15ms/step - loss: 0.0025 - val_loss: 0.0023\n",
            "Epoch 21/100\n",
            "8/8 - 0s - 16ms/step - loss: 0.0025 - val_loss: 0.0022\n",
            "Epoch 22/100\n",
            "8/8 - 0s - 18ms/step - loss: 0.0024 - val_loss: 0.0021\n",
            "Epoch 23/100\n",
            "8/8 - 0s - 33ms/step - loss: 0.0024 - val_loss: 0.0021\n",
            "Epoch 24/100\n",
            "8/8 - 0s - 17ms/step - loss: 0.0023 - val_loss: 0.0020\n",
            "Epoch 25/100\n",
            "8/8 - 0s - 18ms/step - loss: 0.0023 - val_loss: 0.0020\n",
            "Epoch 26/100\n",
            "8/8 - 0s - 17ms/step - loss: 0.0022 - val_loss: 0.0019\n",
            "Epoch 27/100\n",
            "8/8 - 0s - 15ms/step - loss: 0.0022 - val_loss: 0.0019\n",
            "Epoch 28/100\n",
            "8/8 - 0s - 13ms/step - loss: 0.0021 - val_loss: 0.0018\n",
            "Epoch 29/100\n",
            "8/8 - 0s - 18ms/step - loss: 0.0020 - val_loss: 0.0017\n",
            "Epoch 30/100\n",
            "8/8 - 0s - 17ms/step - loss: 0.0020 - val_loss: 0.0016\n",
            "Epoch 31/100\n",
            "8/8 - 0s - 17ms/step - loss: 0.0019 - val_loss: 0.0016\n",
            "Epoch 32/100\n",
            "8/8 - 0s - 13ms/step - loss: 0.0019 - val_loss: 0.0016\n",
            "Epoch 33/100\n",
            "8/8 - 0s - 13ms/step - loss: 0.0019 - val_loss: 0.0016\n",
            "Epoch 34/100\n",
            "8/8 - 0s - 13ms/step - loss: 0.0019 - val_loss: 0.0016\n",
            "Epoch 35/100\n",
            "8/8 - 0s - 25ms/step - loss: 0.0018 - val_loss: 0.0016\n",
            "Epoch 36/100\n",
            "8/8 - 0s - 30ms/step - loss: 0.0018 - val_loss: 0.0015\n",
            "Epoch 37/100\n",
            "8/8 - 0s - 13ms/step - loss: 0.0018 - val_loss: 0.0016\n",
            "Epoch 38/100\n",
            "8/8 - 0s - 17ms/step - loss: 0.0018 - val_loss: 0.0016\n",
            "Epoch 39/100\n",
            "8/8 - 0s - 17ms/step - loss: 0.0018 - val_loss: 0.0015\n",
            "Epoch 40/100\n",
            "8/8 - 0s - 17ms/step - loss: 0.0018 - val_loss: 0.0015\n",
            "Epoch 41/100\n",
            "8/8 - 0s - 22ms/step - loss: 0.0018 - val_loss: 0.0015\n",
            "Epoch 42/100\n",
            "8/8 - 0s - 13ms/step - loss: 0.0018 - val_loss: 0.0015\n",
            "Epoch 43/100\n",
            "8/8 - 0s - 17ms/step - loss: 0.0018 - val_loss: 0.0015\n",
            "Epoch 44/100\n",
            "8/8 - 0s - 17ms/step - loss: 0.0018 - val_loss: 0.0015\n",
            "Epoch 45/100\n",
            "8/8 - 0s - 18ms/step - loss: 0.0018 - val_loss: 0.0015\n",
            "Epoch 46/100\n",
            "8/8 - 0s - 17ms/step - loss: 0.0018 - val_loss: 0.0015\n",
            "Epoch 47/100\n",
            "8/8 - 0s - 13ms/step - loss: 0.0018 - val_loss: 0.0015\n",
            "Epoch 48/100\n",
            "8/8 - 0s - 17ms/step - loss: 0.0018 - val_loss: 0.0015\n",
            "Epoch 49/100\n",
            "8/8 - 0s - 19ms/step - loss: 0.0018 - val_loss: 0.0015\n",
            "Epoch 50/100\n",
            "8/8 - 0s - 17ms/step - loss: 0.0017 - val_loss: 0.0015\n",
            "Epoch 51/100\n",
            "8/8 - 0s - 13ms/step - loss: 0.0017 - val_loss: 0.0015\n",
            "Epoch 52/100\n",
            "8/8 - 0s - 13ms/step - loss: 0.0017 - val_loss: 0.0015\n",
            "Epoch 53/100\n",
            "8/8 - 0s - 17ms/step - loss: 0.0017 - val_loss: 0.0015\n",
            "Epoch 54/100\n",
            "8/8 - 0s - 13ms/step - loss: 0.0017 - val_loss: 0.0015\n",
            "Epoch 55/100\n",
            "8/8 - 0s - 13ms/step - loss: 0.0017 - val_loss: 0.0015\n",
            "Epoch 56/100\n",
            "8/8 - 0s - 13ms/step - loss: 0.0017 - val_loss: 0.0015\n",
            "Epoch 57/100\n",
            "8/8 - 0s - 22ms/step - loss: 0.0017 - val_loss: 0.0015\n",
            "Epoch 58/100\n",
            "8/8 - 0s - 33ms/step - loss: 0.0017 - val_loss: 0.0014\n",
            "Epoch 59/100\n",
            "8/8 - 0s - 14ms/step - loss: 0.0017 - val_loss: 0.0015\n",
            "Epoch 60/100\n",
            "8/8 - 0s - 13ms/step - loss: 0.0017 - val_loss: 0.0014\n",
            "Epoch 61/100\n",
            "8/8 - 0s - 18ms/step - loss: 0.0017 - val_loss: 0.0014\n",
            "Epoch 62/100\n",
            "8/8 - 0s - 13ms/step - loss: 0.0017 - val_loss: 0.0014\n",
            "Epoch 63/100\n",
            "8/8 - 0s - 13ms/step - loss: 0.0017 - val_loss: 0.0014\n",
            "Epoch 64/100\n",
            "8/8 - 0s - 13ms/step - loss: 0.0017 - val_loss: 0.0014\n",
            "Epoch 65/100\n",
            "8/8 - 0s - 17ms/step - loss: 0.0017 - val_loss: 0.0015\n",
            "Epoch 66/100\n",
            "8/8 - 0s - 24ms/step - loss: 0.0017 - val_loss: 0.0014\n",
            "Epoch 67/100\n",
            "8/8 - 0s - 19ms/step - loss: 0.0017 - val_loss: 0.0014\n",
            "Epoch 68/100\n",
            "8/8 - 0s - 22ms/step - loss: 0.0017 - val_loss: 0.0014\n",
            "Epoch 69/100\n",
            "8/8 - 0s - 18ms/step - loss: 0.0017 - val_loss: 0.0014\n",
            "Epoch 70/100\n",
            "8/8 - 0s - 46ms/step - loss: 0.0017 - val_loss: 0.0014\n",
            "Epoch 71/100\n",
            "8/8 - 0s - 22ms/step - loss: 0.0017 - val_loss: 0.0014\n"
          ]
        }
      ]
    },
    {
      "cell_type": "markdown",
      "source": [
        "# **8. Evaluasi**"
      ],
      "metadata": {
        "id": "zGigglluI3cL"
      }
    },
    {
      "cell_type": "code",
      "source": [
        "# Plot Loss Curve\n",
        "plt.figure(figsize=(8,5))\n",
        "plt.plot(history.history['loss'], label='train loss')\n",
        "plt.plot(history.history['val_loss'], label='val loss')\n",
        "plt.title('Training vs Validation Loss')\n",
        "plt.xlabel('Epoch')\n",
        "plt.ylabel('MSE Loss')\n",
        "plt.legend()\n",
        "plt.show()"
      ],
      "metadata": {
        "colab": {
          "base_uri": "https://localhost:8080/",
          "height": 487
        },
        "id": "-xDLIHzzCdGl",
        "outputId": "2bc43748-b5ba-4fe3-ceae-2968186a9af5"
      },
      "execution_count": 12,
      "outputs": [
        {
          "output_type": "display_data",
          "data": {
            "text/plain": [
              "<Figure size 800x500 with 1 Axes>"
            ],
            "image/png": "[encoded data removed]"
          },
          "metadata": {}
        }
      ]
    },
    {
      "cell_type": "code",
      "source": [
        "def plot_histogram(sim_values, title):\n",
        "    plt.figure(figsize=(6,4))\n",
        "    plt.hist(sim_values, bins=50)\n",
        "    plt.title(title)\n",
        "    plt.xlabel('Cosine Similarity')\n",
        "    plt.ylabel('Count')\n",
        "    plt.show()\n",
        "\n",
        "encoder = models.Model(inputs=autoencoder.input,\n",
        "                        outputs=autoencoder.get_layer('embedding').output)\n",
        "emb = encoder.predict(X_combined)\n",
        "# L2 normalization\n",
        "emb_norm = emb / np.linalg.norm(emb, axis=1, keepdims=True)\n",
        "# Example similarity for item idx 0\n",
        "dist0 = emb_norm @ emb_norm[0]\n",
        "plot_histogram(dist0, 'Cosine Similarity Distribution to Item 0')\n",
        "print(\"Min, Max, Mean:\", dist0.min(), dist0.max(), dist0.mean())"
      ],
      "metadata": {
        "colab": {
          "base_uri": "https://localhost:8080/",
          "height": 445
        },
        "id": "6G6Jie-1I1y_",
        "outputId": "e3c2ef6d-0c2c-474b-ae68-c2e874ed2130"
      },
      "execution_count": 13,
      "outputs": [
        {
          "output_type": "stream",
          "name": "stdout",
          "text": [
            "\u001b[1m10/10\u001b[0m \u001b[32m━━━━━━━━━━━━━━━━━━━━\u001b[0m\u001b[37m\u001b[0m \u001b[1m0s\u001b[0m 11ms/step\n"
          ]
        },
        {
          "output_type": "display_data",
          "data": {
            "text/plain": [
              "<Figure size 600x400 with 1 Axes>"
            ],
            "image/png": "[encoded data removed]"
          },
          "metadata": {}
        },
        {
          "output_type": "stream",
          "name": "stdout",
          "text": [
            "Min, Max, Mean: -0.15069684 1.0 0.9830633\n"
          ]
        }
      ]
    },
    {
      "cell_type": "markdown",
      "source": [
        "# **9. Inference**\n"
      ],
      "metadata": {
        "id": "RZDG6ZNTIft_"
      }
    },
    {
      "cell_type": "code",
      "source": [
        "cosine_sim = emb_norm.dot(emb_norm.T)\n",
        "\n",
        "def recommend(idx, top_k=5):\n",
        "    sim_scores = cosine_sim[idx]\n",
        "    top_idx = np.argsort(-sim_scores)\n",
        "    results, seen = [], set()\n",
        "    for i in top_idx:\n",
        "        name = df['nama_tempat'].iloc[i]\n",
        "        if name in seen: continue\n",
        "        seen.add(name)\n",
        "        results.append((name, df['rating'].iloc[i], sim_scores[i]))\n",
        "        if len(results) >= top_k: break\n",
        "    return results\n",
        "\n",
        "# Print Top-5 for idx 0\n",
        "recos = recommend(0, top_k=5)\n",
        "print(\"Top-5 Recommendations:\")\n",
        "for i,(n,r,s) in enumerate(recos,1):\n",
        "    print(f\"{i}. {n} – Rating {r:.2f} – CosineSim {s:.4f}\")"
      ],
      "metadata": {
        "colab": {
          "base_uri": "https://localhost:8080/"
        },
        "id": "UlWmdAF4Ii_5",
        "outputId": "d9b56586-0fb9-4538-d01c-e41f49216b43"
      },
      "execution_count": 14,
      "outputs": [
        {
          "output_type": "stream",
          "name": "stdout",
          "text": [
            "Top-5 Recommendations:\n",
            "1. Wisata Alam Datuk – Rating 3.90 – CosineSim 1.0000\n",
            "2. Sawah Lukis – Rating 3.90 – CosineSim 0.9987\n",
            "3. Pondok Surya – Rating 4.10 – CosineSim 0.9982\n",
            "4. Hasnah Kuliner – Rating 3.80 – CosineSim 0.9982\n",
            "5. Pondok Naga Pantai Galau – Rating 3.80 – CosineSim 0.9981\n"
          ]
        }
      ]
    },
    {
      "cell_type": "markdown",
      "source": [
        "# **10. Simpan Model**"
      ],
      "metadata": {
        "id": "z6dMlf8nkZpp"
      }
    },
    {
      "cell_type": "markdown",
      "source": [
        "## Saved Model"
      ],
      "metadata": {
        "id": "FA00KXGDIo5b"
      }
    },
    {
      "cell_type": "code",
      "source": [
        "!pip install tensorflowjs\n",
        "\n",
        "# Simpan model encoder\n",
        "if not os.path.exists(\"model\"):\n",
        "    os.makedirs(\"model\")\n",
        "\n",
        "# 10.1 Save TensorFlow SavedModel for TFJS conversion\n",
        "encoder.export('model/cbf_encoder_savedmodel', save_format='tf')\n",
        "\n",
        "# 10.2 Save Keras H5/TF models\n",
        "encoder.save('model/cbf_encoder.keras', save_format='tf')\n",
        "autoencoder.save('model/cbf_autoencoder.keras', save_format='tf')\n",
        "\n",
        "# 10.3 Convert to TensorFlowJS format (ensure tensorflowjs is installed)\n",
        "try:\n",
        "    subprocess.run([\n",
        "        'tensorflowjs_converter',\n",
        "        '--input_format=tf_saved_model',\n",
        "        '--output_format=tfjs_graph_model',\n",
        "        'model/cbf_encoder_savedmodel',\n",
        "        'model/tfjs_model'\n",
        "    ], check=True)\n",
        "except Exception as e:\n",
        "    print(\"TFJS conversion failed:\", e)\n",
        "\n",
        "# 10.4 Save item features and ratings to numpy & JSON\n",
        "np.save('model/item_features.npy', X_combined)\n",
        "np.save('model/place_ratings.npy', df['rating'].values)\n",
        "with open('model/item_features.json', 'w') as f:\n",
        "    json.dump(X_combined.tolist(), f)\n",
        "with open('model/place_ratings.json', 'w') as f:\n",
        "    json.dump(df['rating'].tolist(), f)\n",
        "with open('model/place_names.json', 'w') as f:\n",
        "    json.dump(df['nama_tempat'].tolist(), f)\n",
        "\n",
        "!pip freeze > model/requirements.txt"
      ],
      "metadata": {
        "colab": {
          "base_uri": "https://localhost:8080/"
        },
        "id": "OyRwjttvkf1y",
        "outputId": "695dc74b-a649-4152-a8ed-6dcce722a2de"
      },
      "execution_count": 15,
      "outputs": [
        {
          "output_type": "stream",
          "name": "stdout",
          "text": [
            "Collecting tensorflowjs\n",
            "  Downloading tensorflowjs-4.22.0-py3-none-any.whl.metadata (3.2 kB)\n",
            "Requirement already satisfied: flax>=0.7.2 in /usr/local/lib/python3.11/dist-packages (from tensorflowjs) (0.10.6)\n",
            "Requirement already satisfied: importlib_resources>=5.9.0 in /usr/local/lib/python3.11/dist-packages (from tensorflowjs) (6.5.2)\n",
            "Requirement already satisfied: jax>=0.4.13 in /usr/local/lib/python3.11/dist-packages (from tensorflowjs) (0.5.2)\n",
            "Requirement already satisfied: jaxlib>=0.4.13 in /usr/local/lib/python3.11/dist-packages (from tensorflowjs) (0.5.1)\n",
            "Requirement already satisfied: tensorflow<3,>=2.13.0 in /usr/local/lib/python3.11/dist-packages (from tensorflowjs) (2.18.0)\n",
            "Requirement already satisfied: tf-keras>=2.13.0 in /usr/local/lib/python3.11/dist-packages (from tensorflowjs) (2.18.0)\n",
            "Requirement already satisfied: tensorflow-decision-forests>=1.5.0 in /usr/local/lib/python3.11/dist-packages (from tensorflowjs) (1.11.0)\n",
            "Requirement already satisfied: six<2,>=1.16.0 in /usr/local/lib/python3.11/dist-packages (from tensorflowjs) (1.17.0)\n",
            "Requirement already satisfied: tensorflow-hub>=0.16.1 in /usr/local/lib/python3.11/dist-packages (from tensorflowjs) (0.16.1)\n",
            "Collecting packaging~=23.1 (from tensorflowjs)\n",
            "  Downloading packaging-23.2-py3-none-any.whl.metadata (3.2 kB)\n",
            "Requirement already satisfied: numpy>=1.23.2 in /usr/local/lib/python3.11/dist-packages (from flax>=0.7.2->tensorflowjs) (2.0.2)\n",
            "Requirement already satisfied: msgpack in /usr/local/lib/python3.11/dist-packages (from flax>=0.7.2->tensorflowjs) (1.1.0)\n",
            "Requirement already satisfied: optax in /usr/local/lib/python3.11/dist-packages (from flax>=0.7.2->tensorflowjs) (0.2.4)\n",
            "Requirement already satisfied: orbax-checkpoint in /usr/local/lib/python3.11/dist-packages (from flax>=0.7.2->tensorflowjs) (0.11.13)\n",
            "Requirement already satisfied: tensorstore in /usr/local/lib/python3.11/dist-packages (from flax>=0.7.2->tensorflowjs) (0.1.74)\n",
            "Requirement already satisfied: rich>=11.1 in /usr/local/lib/python3.11/dist-packages (from flax>=0.7.2->tensorflowjs) (13.9.4)\n",
            "Requirement already satisfied: typing_extensions>=4.2 in /usr/local/lib/python3.11/dist-packages (from flax>=0.7.2->tensorflowjs) (4.13.2)\n",
            "Requirement already satisfied: PyYAML>=5.4.1 in /usr/local/lib/python3.11/dist-packages (from flax>=0.7.2->tensorflowjs) (6.0.2)\n",
            "Requirement already satisfied: treescope>=0.1.7 in /usr/local/lib/python3.11/dist-packages (from flax>=0.7.2->tensorflowjs) (0.1.9)\n",
            "Requirement already satisfied: ml_dtypes>=0.4.0 in /usr/local/lib/python3.11/dist-packages (from jax>=0.4.13->tensorflowjs) (0.4.1)\n",
            "Requirement already satisfied: opt_einsum in /usr/local/lib/python3.11/dist-packages (from jax>=0.4.13->tensorflowjs) (3.4.0)\n",
            "Requirement already satisfied: scipy>=1.11.1 in /usr/local/lib/python3.11/dist-packages (from jax>=0.4.13->tensorflowjs) (1.15.3)\n",
            "Requirement already satisfied: absl-py>=1.0.0 in /usr/local/lib/python3.11/dist-packages (from tensorflow<3,>=2.13.0->tensorflowjs) (1.4.0)\n",
            "Requirement already satisfied: astunparse>=1.6.0 in /usr/local/lib/python3.11/dist-packages (from tensorflow<3,>=2.13.0->tensorflowjs) (1.6.3)\n",
            "Requirement already satisfied: flatbuffers>=24.3.25 in /usr/local/lib/python3.11/dist-packages (from tensorflow<3,>=2.13.0->tensorflowjs) (25.2.10)\n",
            "Requirement already satisfied: gast!=0.5.0,!=0.5.1,!=0.5.2,>=0.2.1 in /usr/local/lib/python3.11/dist-packages (from tensorflow<3,>=2.13.0->tensorflowjs) (0.6.0)\n",
            "Requirement already satisfied: google-pasta>=0.1.1 in /usr/local/lib/python3.11/dist-packages (from tensorflow<3,>=2.13.0->tensorflowjs) (0.2.0)\n",
            "Requirement already satisfied: libclang>=13.0.0 in /usr/local/lib/python3.11/dist-packages (from tensorflow<3,>=2.13.0->tensorflowjs) (18.1.1)\n",
            "Requirement already satisfied: protobuf!=4.21.0,!=4.21.1,!=4.21.2,!=4.21.3,!=4.21.4,!=4.21.5,<6.0.0dev,>=3.20.3 in /usr/local/lib/python3.11/dist-packages (from tensorflow<3,>=2.13.0->tensorflowjs) (5.29.4)\n",
            "Requirement already satisfied: requests<3,>=2.21.0 in /usr/local/lib/python3.11/dist-packages (from tensorflow<3,>=2.13.0->tensorflowjs) (2.32.3)\n",
            "Requirement already satisfied: setuptools in /usr/local/lib/python3.11/dist-packages (from tensorflow<3,>=2.13.0->tensorflowjs) (75.2.0)\n",
            "Requirement already satisfied: termcolor>=1.1.0 in /usr/local/lib/python3.11/dist-packages (from tensorflow<3,>=2.13.0->tensorflowjs) (3.1.0)\n",
            "Requirement already satisfied: wrapt>=1.11.0 in /usr/local/lib/python3.11/dist-packages (from tensorflow<3,>=2.13.0->tensorflowjs) (1.17.2)\n",
            "Requirement already satisfied: grpcio<2.0,>=1.24.3 in /usr/local/lib/python3.11/dist-packages (from tensorflow<3,>=2.13.0->tensorflowjs) (1.71.0)\n",
            "Requirement already satisfied: tensorboard<2.19,>=2.18 in /usr/local/lib/python3.11/dist-packages (from tensorflow<3,>=2.13.0->tensorflowjs) (2.18.0)\n",
            "Requirement already satisfied: keras>=3.5.0 in /usr/local/lib/python3.11/dist-packages (from tensorflow<3,>=2.13.0->tensorflowjs) (3.8.0)\n",
            "Requirement already satisfied: h5py>=3.11.0 in /usr/local/lib/python3.11/dist-packages (from tensorflow<3,>=2.13.0->tensorflowjs) (3.13.0)\n",
            "Requirement already satisfied: tensorflow-io-gcs-filesystem>=0.23.1 in /usr/local/lib/python3.11/dist-packages (from tensorflow<3,>=2.13.0->tensorflowjs) (0.37.1)\n",
            "Requirement already satisfied: pandas in /usr/local/lib/python3.11/dist-packages (from tensorflow-decision-forests>=1.5.0->tensorflowjs) (2.2.2)\n",
            "Requirement already satisfied: wheel in /usr/local/lib/python3.11/dist-packages (from tensorflow-decision-forests>=1.5.0->tensorflowjs) (0.45.1)\n",
            "Requirement already satisfied: wurlitzer in /usr/local/lib/python3.11/dist-packages (from tensorflow-decision-forests>=1.5.0->tensorflowjs) (3.1.1)\n",
            "Requirement already satisfied: ydf in /usr/local/lib/python3.11/dist-packages (from tensorflow-decision-forests>=1.5.0->tensorflowjs) (0.11.0)\n",
            "Requirement already satisfied: namex in /usr/local/lib/python3.11/dist-packages (from keras>=3.5.0->tensorflow<3,>=2.13.0->tensorflowjs) (0.0.9)\n",
            "Requirement already satisfied: optree in /usr/local/lib/python3.11/dist-packages (from keras>=3.5.0->tensorflow<3,>=2.13.0->tensorflowjs) (0.15.0)\n",
            "Requirement already satisfied: charset-normalizer<4,>=2 in /usr/local/lib/python3.11/dist-packages (from requests<3,>=2.21.0->tensorflow<3,>=2.13.0->tensorflowjs) (3.4.2)\n",
            "Requirement already satisfied: idna<4,>=2.5 in /usr/local/lib/python3.11/dist-packages (from requests<3,>=2.21.0->tensorflow<3,>=2.13.0->tensorflowjs) (3.10)\n",
            "Requirement already satisfied: urllib3<3,>=1.21.1 in /usr/local/lib/python3.11/dist-packages (from requests<3,>=2.21.0->tensorflow<3,>=2.13.0->tensorflowjs) (2.4.0)\n",
            "Requirement already satisfied: certifi>=2017.4.17 in /usr/local/lib/python3.11/dist-packages (from requests<3,>=2.21.0->tensorflow<3,>=2.13.0->tensorflowjs) (2025.4.26)\n",
            "Requirement already satisfied: markdown-it-py>=2.2.0 in /usr/local/lib/python3.11/dist-packages (from rich>=11.1->flax>=0.7.2->tensorflowjs) (3.0.0)\n",
            "Requirement already satisfied: pygments<3.0.0,>=2.13.0 in /usr/local/lib/python3.11/dist-packages (from rich>=11.1->flax>=0.7.2->tensorflowjs) (2.19.1)\n",
            "Requirement already satisfied: markdown>=2.6.8 in /usr/local/lib/python3.11/dist-packages (from tensorboard<2.19,>=2.18->tensorflow<3,>=2.13.0->tensorflowjs) (3.8)\n",
            "Requirement already satisfied: tensorboard-data-server<0.8.0,>=0.7.0 in /usr/local/lib/python3.11/dist-packages (from tensorboard<2.19,>=2.18->tensorflow<3,>=2.13.0->tensorflowjs) (0.7.2)\n",
            "Requirement already satisfied: werkzeug>=1.0.1 in /usr/local/lib/python3.11/dist-packages (from tensorboard<2.19,>=2.18->tensorflow<3,>=2.13.0->tensorflowjs) (3.1.3)\n",
            "Requirement already satisfied: chex>=0.1.87 in /usr/local/lib/python3.11/dist-packages (from optax->flax>=0.7.2->tensorflowjs) (0.1.89)\n",
            "Requirement already satisfied: etils[epy] in /usr/local/lib/python3.11/dist-packages (from optax->flax>=0.7.2->tensorflowjs) (1.12.2)\n",
            "Requirement already satisfied: nest_asyncio in /usr/local/lib/python3.11/dist-packages (from orbax-checkpoint->flax>=0.7.2->tensorflowjs) (1.6.0)\n",
            "Requirement already satisfied: humanize in /usr/local/lib/python3.11/dist-packages (from orbax-checkpoint->flax>=0.7.2->tensorflowjs) (4.12.3)\n",
            "Requirement already satisfied: simplejson>=3.16.0 in /usr/local/lib/python3.11/dist-packages (from orbax-checkpoint->flax>=0.7.2->tensorflowjs) (3.20.1)\n",
            "Requirement already satisfied: python-dateutil>=2.8.2 in /usr/local/lib/python3.11/dist-packages (from pandas->tensorflow-decision-forests>=1.5.0->tensorflowjs) (2.9.0.post0)\n",
            "Requirement already satisfied: pytz>=2020.1 in /usr/local/lib/python3.11/dist-packages (from pandas->tensorflow-decision-forests>=1.5.0->tensorflowjs) (2025.2)\n",
            "Requirement already satisfied: tzdata>=2022.7 in /usr/local/lib/python3.11/dist-packages (from pandas->tensorflow-decision-forests>=1.5.0->tensorflowjs) (2025.2)\n",
            "Requirement already satisfied: toolz>=0.9.0 in /usr/local/lib/python3.11/dist-packages (from chex>=0.1.87->optax->flax>=0.7.2->tensorflowjs) (0.12.1)\n",
            "Requirement already satisfied: mdurl~=0.1 in /usr/local/lib/python3.11/dist-packages (from markdown-it-py>=2.2.0->rich>=11.1->flax>=0.7.2->tensorflowjs) (0.1.2)\n",
            "Requirement already satisfied: MarkupSafe>=2.1.1 in /usr/local/lib/python3.11/dist-packages (from werkzeug>=1.0.1->tensorboard<2.19,>=2.18->tensorflow<3,>=2.13.0->tensorflowjs) (3.0.2)\n",
            "Requirement already satisfied: fsspec in /usr/local/lib/python3.11/dist-packages (from etils[epath,epy]->orbax-checkpoint->flax>=0.7.2->tensorflowjs) (2025.3.2)\n",
            "Requirement already satisfied: zipp in /usr/local/lib/python3.11/dist-packages (from etils[epath,epy]->orbax-checkpoint->flax>=0.7.2->tensorflowjs) (3.21.0)\n",
            "Downloading tensorflowjs-4.22.0-py3-none-any.whl (89 kB)\n",
            "\u001b[2K   \u001b[90m━━━━━━━━━━━━━━━━━━━━━━━━━━━━━━━━━━━━━━━━\u001b[0m \u001b[32m89.1/89.1 kB\u001b[0m \u001b[31m2.4 MB/s\u001b[0m eta \u001b[36m0:00:00\u001b[0m\n",
            "\u001b[?25hDownloading packaging-23.2-py3-none-any.whl (53 kB)\n",
            "\u001b[2K   \u001b[90m━━━━━━━━━━━━━━━━━━━━━━━━━━━━━━━━━━━━━━━━\u001b[0m \u001b[32m53.0/53.0 kB\u001b[0m \u001b[31m4.1 MB/s\u001b[0m eta \u001b[36m0:00:00\u001b[0m\n",
            "\u001b[?25hInstalling collected packages: packaging, tensorflowjs\n",
            "  Attempting uninstall: packaging\n",
            "    Found existing installation: packaging 24.2\n",
            "    Uninstalling packaging-24.2:\n",
            "      Successfully uninstalled packaging-24.2\n",
            "\u001b[31mERROR: pip's dependency resolver does not currently take into account all the packages that are installed. This behaviour is the source of the following dependency conflicts.\n",
            "google-cloud-bigquery 3.32.0 requires packaging>=24.2.0, but you have packaging 23.2 which is incompatible.\n",
            "db-dtypes 1.4.3 requires packaging>=24.2.0, but you have packaging 23.2 which is incompatible.\u001b[0m\u001b[31m\n",
            "\u001b[0mSuccessfully installed packaging-23.2 tensorflowjs-4.22.0\n",
            "Saved artifact at 'model/cbf_encoder_savedmodel'. The following endpoints are available:\n",
            "\n",
            "* Endpoint 'serve'\n",
            "  args_0 (POSITIONAL_ONLY): TensorSpec(shape=(None, 102), dtype=tf.float32, name='keras_tensor')\n",
            "Output Type:\n",
            "  TensorSpec(shape=(None, 16), dtype=tf.float32, name=None)\n",
            "Captures:\n",
            "  132788706942160: TensorSpec(shape=(), dtype=tf.resource, name=None)\n",
            "  132788638754448: TensorSpec(shape=(), dtype=tf.resource, name=None)\n",
            "  132788638753488: TensorSpec(shape=(), dtype=tf.resource, name=None)\n",
            "  132788638754256: TensorSpec(shape=(), dtype=tf.resource, name=None)\n",
            "  132788638754064: TensorSpec(shape=(), dtype=tf.resource, name=None)\n",
            "  132788638751376: TensorSpec(shape=(), dtype=tf.resource, name=None)\n"
          ]
        },
        {
          "output_type": "stream",
          "name": "stderr",
          "text": [
            "WARNING:absl:The `save_format` argument is deprecated in Keras 3. We recommend removing this argument as it can be inferred from the file path. Received: save_format=tf\n",
            "WARNING:absl:The `save_format` argument is deprecated in Keras 3. We recommend removing this argument as it can be inferred from the file path. Received: save_format=tf\n"
          ]
        }
      ]
    },
    {
      "cell_type": "code",
      "source": [
        "import shutil\n",
        "\n",
        "# Zip folder model menjadi cbf_encoder.zip\n",
        "shutil.make_archive('model_cbf', 'zip', 'model')\n",
        "\n",
        "from google.colab import files\n",
        "files.download('model_cbf.zip')"
      ],
      "metadata": {
        "colab": {
          "base_uri": "https://localhost:8080/",
          "height": 17
        },
        "id": "I3SpK-IEk_C4",
        "outputId": "62f1aeab-7630-4913-dcff-5c9f19d47a4b"
      },
      "execution_count": 16,
      "outputs": [
        {
          "output_type": "display_data",
          "data": {
            "text/plain": [
              "<IPython.core.display.Javascript object>"
            ],
            "application/javascript": [
              "\n",
              "    async function download(id, filename, size) {\n",
              "      if (!google.colab.kernel.accessAllowed) {\n",
              "        return;\n",
              "      }\n",
              "      const div = document.createElement('div');\n",
              "      const label = document.createElement('label');\n",
              "      label.textContent = `Downloading \"${filename}\": `;\n",
              "      div.appendChild(label);\n",
              "      const progress = document.createElement('progress');\n",
              "      progress.max = size;\n",
              "      div.appendChild(progress);\n",
              "      document.body.appendChild(div);\n",
              "\n",
              "      const buffers = [];\n",
              "      let downloaded = 0;\n",
              "\n",
              "      const channel = await google.colab.kernel.comms.open(id);\n",
              "      // Send a message to notify the kernel that we're ready.\n",
              "      channel.send({})\n",
              "\n",
              "      for await (const message of channel.messages) {\n",
              "        // Send a message to notify the kernel that we're ready.\n",
              "        channel.send({})\n",
              "        if (message.buffers) {\n",
              "          for (const buffer of message.buffers) {\n",
              "            buffers.push(buffer);\n",
              "            downloaded += buffer.byteLength;\n",
              "            progress.value = downloaded;\n",
              "          }\n",
              "        }\n",
              "      }\n",
              "      const blob = new Blob(buffers, {type: 'application/binary'});\n",
              "      const a = document.createElement('a');\n",
              "      a.href = window.URL.createObjectURL(blob);\n",
              "      a.download = filename;\n",
              "      div.appendChild(a);\n",
              "      a.click();\n",
              "      div.remove();\n",
              "    }\n",
              "  "
            ]
          },
          "metadata": {}
        },
        {
          "output_type": "display_data",
          "data": {
            "text/plain": [
              "<IPython.core.display.Javascript object>"
            ],
            "application/javascript": [
              "download(\"download_be5db534-7517-442b-81c8-2c55cf17f4bf\", \"model_cbf.zip\", 863330)"
            ]
          },
          "metadata": {}
        }
      ]
    }
  ]
}