{
  "nbformat": 4,
  "nbformat_minor": 0,
  "metadata": {
    "colab": {
      "provenance": [],
      "collapsed_sections": [
        "WKqSc5xAwCs_",
        "2Vj8GTZZRuTF",
        "S0CYRwJ9Rzjh"
      ]
    },
    "kernelspec": {
      "name": "python3",
      "display_name": "Python 3"
    },
    "language_info": {
      "name": "python"
    }
  },
  "cells": [
    {
      "cell_type": "markdown",
      "source": [
        "# **1. Import library**"
      ],
      "metadata": {
        "id": "hWi_dmR-vit6"
      }
    },
    {
      "cell_type": "markdown",
      "source": [
        "Menginstall semua depencies yang dibutuhkan"
      ],
      "metadata": {
        "id": "Bfpb06YkQ9ki"
      }
    },
    {
      "cell_type": "code",
      "source": [
        "!pip install Sastrawi\n",
        "!pip install tensorflowjs\n",
        "\n",
        "import pandas as pd\n",
        "import numpy as np\n",
        "import matplotlib.pyplot as plt\n",
        "import seaborn as sns\n",
        "import warnings\n",
        "warnings.filterwarnings('ignore')\n",
        "\n",
        "# NLP Libraries\n",
        "from sklearn.feature_extraction.text import TfidfVectorizer\n",
        "from sklearn.metrics.pairwise import cosine_similarity\n",
        "from sklearn.preprocessing import MinMaxScaler\n",
        "\n",
        "# Text Processing\n",
        "import re\n",
        "import string\n",
        "from Sastrawi.Stemmer.StemmerFactory import StemmerFactory\n",
        "from Sastrawi.StopWordRemover.StopWordRemoverFactory import StopWordRemoverFactory\n",
        "\n",
        "# Model Saving\n",
        "import joblib\n",
        "import json\n",
        "import tensorflow as tf\n",
        "import os\n",
        "\n",
        "plt.style.use('default')\n",
        "sns.set_palette(\"husl\")"
      ],
      "metadata": {
        "id": "hg3cYr-cvgaa",
        "colab": {
          "base_uri": "https://localhost:8080/"
        },
        "outputId": "a546c23f-fb1e-43cd-c904-69ac35c28e3d"
      },
      "execution_count": 1,
      "outputs": [
        {
          "output_type": "stream",
          "name": "stdout",
          "text": [
            "Collecting Sastrawi\n",
            "  Downloading Sastrawi-1.0.1-py2.py3-none-any.whl.metadata (909 bytes)\n",
            "Downloading Sastrawi-1.0.1-py2.py3-none-any.whl (209 kB)\n",
            "\u001b[?25l   \u001b[90m━━━━━━━━━━━━━━━━━━━━━━━━━━━━━━━━━━━━━━━━\u001b[0m \u001b[32m0.0/209.7 kB\u001b[0m \u001b[31m?\u001b[0m eta \u001b[36m-:--:--\u001b[0m\r\u001b[2K   \u001b[91m━━━━━━━━━━━━━━━━━━━━━━━━━━━━━━━━━━━━━━━\u001b[0m\u001b[90m╺\u001b[0m \u001b[32m204.8/209.7 kB\u001b[0m \u001b[31m8.1 MB/s\u001b[0m eta \u001b[36m0:00:01\u001b[0m\r\u001b[2K   \u001b[90m━━━━━━━━━━━━━━━━━━━━━━━━━━━━━━━━━━━━━━━━\u001b[0m \u001b[32m209.7/209.7 kB\u001b[0m \u001b[31m4.3 MB/s\u001b[0m eta \u001b[36m0:00:00\u001b[0m\n",
            "\u001b[?25hInstalling collected packages: Sastrawi\n",
            "Successfully installed Sastrawi-1.0.1\n",
            "Collecting tensorflowjs\n",
            "  Downloading tensorflowjs-4.22.0-py3-none-any.whl.metadata (3.2 kB)\n",
            "Requirement already satisfied: flax>=0.7.2 in /usr/local/lib/python3.11/dist-packages (from tensorflowjs) (0.10.6)\n",
            "Requirement already satisfied: importlib_resources>=5.9.0 in /usr/local/lib/python3.11/dist-packages (from tensorflowjs) (6.5.2)\n",
            "Requirement already satisfied: jax>=0.4.13 in /usr/local/lib/python3.11/dist-packages (from tensorflowjs) (0.5.2)\n",
            "Requirement already satisfied: jaxlib>=0.4.13 in /usr/local/lib/python3.11/dist-packages (from tensorflowjs) (0.5.1)\n",
            "Requirement already satisfied: tensorflow<3,>=2.13.0 in /usr/local/lib/python3.11/dist-packages (from tensorflowjs) (2.18.0)\n",
            "Requirement already satisfied: tf-keras>=2.13.0 in /usr/local/lib/python3.11/dist-packages (from tensorflowjs) (2.18.0)\n",
            "Requirement already satisfied: tensorflow-decision-forests>=1.5.0 in /usr/local/lib/python3.11/dist-packages (from tensorflowjs) (1.11.0)\n",
            "Requirement already satisfied: six<2,>=1.16.0 in /usr/local/lib/python3.11/dist-packages (from tensorflowjs) (1.17.0)\n",
            "Requirement already satisfied: tensorflow-hub>=0.16.1 in /usr/local/lib/python3.11/dist-packages (from tensorflowjs) (0.16.1)\n",
            "Collecting packaging~=23.1 (from tensorflowjs)\n",
            "  Downloading packaging-23.2-py3-none-any.whl.metadata (3.2 kB)\n",
            "Requirement already satisfied: numpy>=1.23.2 in /usr/local/lib/python3.11/dist-packages (from flax>=0.7.2->tensorflowjs) (2.0.2)\n",
            "Requirement already satisfied: msgpack in /usr/local/lib/python3.11/dist-packages (from flax>=0.7.2->tensorflowjs) (1.1.0)\n",
            "Requirement already satisfied: optax in /usr/local/lib/python3.11/dist-packages (from flax>=0.7.2->tensorflowjs) (0.2.4)\n",
            "Requirement already satisfied: orbax-checkpoint in /usr/local/lib/python3.11/dist-packages (from flax>=0.7.2->tensorflowjs) (0.11.13)\n",
            "Requirement already satisfied: tensorstore in /usr/local/lib/python3.11/dist-packages (from flax>=0.7.2->tensorflowjs) (0.1.74)\n",
            "Requirement already satisfied: rich>=11.1 in /usr/local/lib/python3.11/dist-packages (from flax>=0.7.2->tensorflowjs) (13.9.4)\n",
            "Requirement already satisfied: typing_extensions>=4.2 in /usr/local/lib/python3.11/dist-packages (from flax>=0.7.2->tensorflowjs) (4.13.2)\n",
            "Requirement already satisfied: PyYAML>=5.4.1 in /usr/local/lib/python3.11/dist-packages (from flax>=0.7.2->tensorflowjs) (6.0.2)\n",
            "Requirement already satisfied: treescope>=0.1.7 in /usr/local/lib/python3.11/dist-packages (from flax>=0.7.2->tensorflowjs) (0.1.9)\n",
            "Requirement already satisfied: ml_dtypes>=0.4.0 in /usr/local/lib/python3.11/dist-packages (from jax>=0.4.13->tensorflowjs) (0.4.1)\n",
            "Requirement already satisfied: opt_einsum in /usr/local/lib/python3.11/dist-packages (from jax>=0.4.13->tensorflowjs) (3.4.0)\n",
            "Requirement already satisfied: scipy>=1.11.1 in /usr/local/lib/python3.11/dist-packages (from jax>=0.4.13->tensorflowjs) (1.15.3)\n",
            "Requirement already satisfied: absl-py>=1.0.0 in /usr/local/lib/python3.11/dist-packages (from tensorflow<3,>=2.13.0->tensorflowjs) (1.4.0)\n",
            "Requirement already satisfied: astunparse>=1.6.0 in /usr/local/lib/python3.11/dist-packages (from tensorflow<3,>=2.13.0->tensorflowjs) (1.6.3)\n",
            "Requirement already satisfied: flatbuffers>=24.3.25 in /usr/local/lib/python3.11/dist-packages (from tensorflow<3,>=2.13.0->tensorflowjs) (25.2.10)\n",
            "Requirement already satisfied: gast!=0.5.0,!=0.5.1,!=0.5.2,>=0.2.1 in /usr/local/lib/python3.11/dist-packages (from tensorflow<3,>=2.13.0->tensorflowjs) (0.6.0)\n",
            "Requirement already satisfied: google-pasta>=0.1.1 in /usr/local/lib/python3.11/dist-packages (from tensorflow<3,>=2.13.0->tensorflowjs) (0.2.0)\n",
            "Requirement already satisfied: libclang>=13.0.0 in /usr/local/lib/python3.11/dist-packages (from tensorflow<3,>=2.13.0->tensorflowjs) (18.1.1)\n",
            "Requirement already satisfied: protobuf!=4.21.0,!=4.21.1,!=4.21.2,!=4.21.3,!=4.21.4,!=4.21.5,<6.0.0dev,>=3.20.3 in /usr/local/lib/python3.11/dist-packages (from tensorflow<3,>=2.13.0->tensorflowjs) (5.29.5)\n",
            "Requirement already satisfied: requests<3,>=2.21.0 in /usr/local/lib/python3.11/dist-packages (from tensorflow<3,>=2.13.0->tensorflowjs) (2.32.3)\n",
            "Requirement already satisfied: setuptools in /usr/local/lib/python3.11/dist-packages (from tensorflow<3,>=2.13.0->tensorflowjs) (75.2.0)\n",
            "Requirement already satisfied: termcolor>=1.1.0 in /usr/local/lib/python3.11/dist-packages (from tensorflow<3,>=2.13.0->tensorflowjs) (3.1.0)\n",
            "Requirement already satisfied: wrapt>=1.11.0 in /usr/local/lib/python3.11/dist-packages (from tensorflow<3,>=2.13.0->tensorflowjs) (1.17.2)\n",
            "Requirement already satisfied: grpcio<2.0,>=1.24.3 in /usr/local/lib/python3.11/dist-packages (from tensorflow<3,>=2.13.0->tensorflowjs) (1.71.0)\n",
            "Requirement already satisfied: tensorboard<2.19,>=2.18 in /usr/local/lib/python3.11/dist-packages (from tensorflow<3,>=2.13.0->tensorflowjs) (2.18.0)\n",
            "Requirement already satisfied: keras>=3.5.0 in /usr/local/lib/python3.11/dist-packages (from tensorflow<3,>=2.13.0->tensorflowjs) (3.8.0)\n",
            "Requirement already satisfied: h5py>=3.11.0 in /usr/local/lib/python3.11/dist-packages (from tensorflow<3,>=2.13.0->tensorflowjs) (3.13.0)\n",
            "Requirement already satisfied: tensorflow-io-gcs-filesystem>=0.23.1 in /usr/local/lib/python3.11/dist-packages (from tensorflow<3,>=2.13.0->tensorflowjs) (0.37.1)\n",
            "Requirement already satisfied: pandas in /usr/local/lib/python3.11/dist-packages (from tensorflow-decision-forests>=1.5.0->tensorflowjs) (2.2.2)\n",
            "Requirement already satisfied: wheel in /usr/local/lib/python3.11/dist-packages (from tensorflow-decision-forests>=1.5.0->tensorflowjs) (0.45.1)\n",
            "Requirement already satisfied: wurlitzer in /usr/local/lib/python3.11/dist-packages (from tensorflow-decision-forests>=1.5.0->tensorflowjs) (3.1.1)\n",
            "Requirement already satisfied: ydf in /usr/local/lib/python3.11/dist-packages (from tensorflow-decision-forests>=1.5.0->tensorflowjs) (0.12.0)\n",
            "Requirement already satisfied: namex in /usr/local/lib/python3.11/dist-packages (from keras>=3.5.0->tensorflow<3,>=2.13.0->tensorflowjs) (0.1.0)\n",
            "Requirement already satisfied: optree in /usr/local/lib/python3.11/dist-packages (from keras>=3.5.0->tensorflow<3,>=2.13.0->tensorflowjs) (0.16.0)\n",
            "Requirement already satisfied: charset-normalizer<4,>=2 in /usr/local/lib/python3.11/dist-packages (from requests<3,>=2.21.0->tensorflow<3,>=2.13.0->tensorflowjs) (3.4.2)\n",
            "Requirement already satisfied: idna<4,>=2.5 in /usr/local/lib/python3.11/dist-packages (from requests<3,>=2.21.0->tensorflow<3,>=2.13.0->tensorflowjs) (3.10)\n",
            "Requirement already satisfied: urllib3<3,>=1.21.1 in /usr/local/lib/python3.11/dist-packages (from requests<3,>=2.21.0->tensorflow<3,>=2.13.0->tensorflowjs) (2.4.0)\n",
            "Requirement already satisfied: certifi>=2017.4.17 in /usr/local/lib/python3.11/dist-packages (from requests<3,>=2.21.0->tensorflow<3,>=2.13.0->tensorflowjs) (2025.4.26)\n",
            "Requirement already satisfied: markdown-it-py>=2.2.0 in /usr/local/lib/python3.11/dist-packages (from rich>=11.1->flax>=0.7.2->tensorflowjs) (3.0.0)\n",
            "Requirement already satisfied: pygments<3.0.0,>=2.13.0 in /usr/local/lib/python3.11/dist-packages (from rich>=11.1->flax>=0.7.2->tensorflowjs) (2.19.1)\n",
            "Requirement already satisfied: markdown>=2.6.8 in /usr/local/lib/python3.11/dist-packages (from tensorboard<2.19,>=2.18->tensorflow<3,>=2.13.0->tensorflowjs) (3.8)\n",
            "Requirement already satisfied: tensorboard-data-server<0.8.0,>=0.7.0 in /usr/local/lib/python3.11/dist-packages (from tensorboard<2.19,>=2.18->tensorflow<3,>=2.13.0->tensorflowjs) (0.7.2)\n",
            "Requirement already satisfied: werkzeug>=1.0.1 in /usr/local/lib/python3.11/dist-packages (from tensorboard<2.19,>=2.18->tensorflow<3,>=2.13.0->tensorflowjs) (3.1.3)\n",
            "Requirement already satisfied: chex>=0.1.87 in /usr/local/lib/python3.11/dist-packages (from optax->flax>=0.7.2->tensorflowjs) (0.1.89)\n",
            "Requirement already satisfied: etils[epy] in /usr/local/lib/python3.11/dist-packages (from optax->flax>=0.7.2->tensorflowjs) (1.12.2)\n",
            "Requirement already satisfied: nest_asyncio in /usr/local/lib/python3.11/dist-packages (from orbax-checkpoint->flax>=0.7.2->tensorflowjs) (1.6.0)\n",
            "Requirement already satisfied: humanize in /usr/local/lib/python3.11/dist-packages (from orbax-checkpoint->flax>=0.7.2->tensorflowjs) (4.12.3)\n",
            "Requirement already satisfied: simplejson>=3.16.0 in /usr/local/lib/python3.11/dist-packages (from orbax-checkpoint->flax>=0.7.2->tensorflowjs) (3.20.1)\n",
            "Requirement already satisfied: python-dateutil>=2.8.2 in /usr/local/lib/python3.11/dist-packages (from pandas->tensorflow-decision-forests>=1.5.0->tensorflowjs) (2.9.0.post0)\n",
            "Requirement already satisfied: pytz>=2020.1 in /usr/local/lib/python3.11/dist-packages (from pandas->tensorflow-decision-forests>=1.5.0->tensorflowjs) (2025.2)\n",
            "Requirement already satisfied: tzdata>=2022.7 in /usr/local/lib/python3.11/dist-packages (from pandas->tensorflow-decision-forests>=1.5.0->tensorflowjs) (2025.2)\n",
            "Requirement already satisfied: toolz>=0.9.0 in /usr/local/lib/python3.11/dist-packages (from chex>=0.1.87->optax->flax>=0.7.2->tensorflowjs) (0.12.1)\n",
            "Requirement already satisfied: mdurl~=0.1 in /usr/local/lib/python3.11/dist-packages (from markdown-it-py>=2.2.0->rich>=11.1->flax>=0.7.2->tensorflowjs) (0.1.2)\n",
            "Requirement already satisfied: MarkupSafe>=2.1.1 in /usr/local/lib/python3.11/dist-packages (from werkzeug>=1.0.1->tensorboard<2.19,>=2.18->tensorflow<3,>=2.13.0->tensorflowjs) (3.0.2)\n",
            "Requirement already satisfied: fsspec in /usr/local/lib/python3.11/dist-packages (from etils[epath,epy]->orbax-checkpoint->flax>=0.7.2->tensorflowjs) (2025.3.2)\n",
            "Requirement already satisfied: zipp in /usr/local/lib/python3.11/dist-packages (from etils[epath,epy]->orbax-checkpoint->flax>=0.7.2->tensorflowjs) (3.22.0)\n",
            "Downloading tensorflowjs-4.22.0-py3-none-any.whl (89 kB)\n",
            "\u001b[2K   \u001b[90m━━━━━━━━━━━━━━━━━━━━━━━━━━━━━━━━━━━━━━━━\u001b[0m \u001b[32m89.1/89.1 kB\u001b[0m \u001b[31m1.7 MB/s\u001b[0m eta \u001b[36m0:00:00\u001b[0m\n",
            "\u001b[?25hDownloading packaging-23.2-py3-none-any.whl (53 kB)\n",
            "\u001b[2K   \u001b[90m━━━━━━━━━━━━━━━━━━━━━━━━━━━━━━━━━━━━━━━━\u001b[0m \u001b[32m53.0/53.0 kB\u001b[0m \u001b[31m2.2 MB/s\u001b[0m eta \u001b[36m0:00:00\u001b[0m\n",
            "\u001b[?25hInstalling collected packages: packaging, tensorflowjs\n",
            "  Attempting uninstall: packaging\n",
            "    Found existing installation: packaging 24.2\n",
            "    Uninstalling packaging-24.2:\n",
            "      Successfully uninstalled packaging-24.2\n",
            "\u001b[31mERROR: pip's dependency resolver does not currently take into account all the packages that are installed. This behaviour is the source of the following dependency conflicts.\n",
            "google-cloud-bigquery 3.34.0 requires packaging>=24.2.0, but you have packaging 23.2 which is incompatible.\n",
            "db-dtypes 1.4.3 requires packaging>=24.2.0, but you have packaging 23.2 which is incompatible.\u001b[0m\u001b[31m\n",
            "\u001b[0mSuccessfully installed packaging-23.2 tensorflowjs-4.22.0\n"
          ]
        }
      ]
    },
    {
      "cell_type": "markdown",
      "source": [
        "# **2. Load Dataset**"
      ],
      "metadata": {
        "id": "HWtwqDeVvuKA"
      }
    },
    {
      "cell_type": "code",
      "source": [
        "def load_data():\n",
        "    \"\"\"Load dataset dari file CSV\"\"\"\n",
        "    from google.colab import files\n",
        "    uploaded = files.upload()\n",
        "    filename = list(uploaded.keys())[0]\n",
        "    df = pd.read_csv(filename)\n",
        "\n",
        "    return df\n",
        "\n",
        "df = load_data()\n",
        "print(\"Dataset berhasil dimuat!\")\n",
        "print(f\"Shape: {df.shape}\")\n",
        "print(\"\\nKolom:\", df.columns.tolist())"
      ],
      "metadata": {
        "id": "2X-VHEyFvpn6",
        "colab": {
          "base_uri": "https://localhost:8080/",
          "height": 142
        },
        "outputId": "b2b5bd54-7789-4ec2-e48b-48a80d6fbf5d"
      },
      "execution_count": 2,
      "outputs": [
        {
          "output_type": "display_data",
          "data": {
            "text/plain": [
              "<IPython.core.display.HTML object>"
            ],
            "text/html": [
              "\n",
              "     <input type=\"file\" id=\"files-1f1a637f-c52c-45d3-981d-3a4d248fc905\" name=\"files[]\" multiple disabled\n",
              "        style=\"border:none\" />\n",
              "     <output id=\"result-1f1a637f-c52c-45d3-981d-3a4d248fc905\">\n",
              "      Upload widget is only available when the cell has been executed in the\n",
              "      current browser session. Please rerun this cell to enable.\n",
              "      </output>\n",
              "      <script>// Copyright 2017 Google LLC\n",
              "//\n",
              "// Licensed under the Apache License, Version 2.0 (the \"License\");\n",
              "// you may not use this file except in compliance with the License.\n",
              "// You may obtain a copy of the License at\n",
              "//\n",
              "//      http://www.apache.org/licenses/LICENSE-2.0\n",
              "//\n",
              "// Unless required by applicable law or agreed to in writing, software\n",
              "// distributed under the License is distributed on an \"AS IS\" BASIS,\n",
              "// WITHOUT WARRANTIES OR CONDITIONS OF ANY KIND, either express or implied.\n",
              "// See the License for the specific language governing permissions and\n",
              "// limitations under the License.\n",
              "\n",
              "/**\n",
              " * @fileoverview Helpers for google.colab Python module.\n",
              " */\n",
              "(function(scope) {\n",
              "function span(text, styleAttributes = {}) {\n",
              "  const element = document.createElement('span');\n",
              "  element.textContent = text;\n",
              "  for (const key of Object.keys(styleAttributes)) {\n",
              "    element.style[key] = styleAttributes[key];\n",
              "  }\n",
              "  return element;\n",
              "}\n",
              "\n",
              "// Max number of bytes which will be uploaded at a time.\n",
              "const MAX_PAYLOAD_SIZE = 100 * 1024;\n",
              "\n",
              "function _uploadFiles(inputId, outputId) {\n",
              "  const steps = uploadFilesStep(inputId, outputId);\n",
              "  const outputElement = document.getElementById(outputId);\n",
              "  // Cache steps on the outputElement to make it available for the next call\n",
              "  // to uploadFilesContinue from Python.\n",
              "  outputElement.steps = steps;\n",
              "\n",
              "  return _uploadFilesContinue(outputId);\n",
              "}\n",
              "\n",
              "// This is roughly an async generator (not supported in the browser yet),\n",
              "// where there are multiple asynchronous steps and the Python side is going\n",
              "// to poll for completion of each step.\n",
              "// This uses a Promise to block the python side on completion of each step,\n",
              "// then passes the result of the previous step as the input to the next step.\n",
              "function _uploadFilesContinue(outputId) {\n",
              "  const outputElement = document.getElementById(outputId);\n",
              "  const steps = outputElement.steps;\n",
              "\n",
              "  const next = steps.next(outputElement.lastPromiseValue);\n",
              "  return Promise.resolve(next.value.promise).then((value) => {\n",
              "    // Cache the last promise value to make it available to the next\n",
              "    // step of the generator.\n",
              "    outputElement.lastPromiseValue = value;\n",
              "    return next.value.response;\n",
              "  });\n",
              "}\n",
              "\n",
              "/**\n",
              " * Generator function which is called between each async step of the upload\n",
              " * process.\n",
              " * @param {string} inputId Element ID of the input file picker element.\n",
              " * @param {string} outputId Element ID of the output display.\n",
              " * @return {!Iterable<!Object>} Iterable of next steps.\n",
              " */\n",
              "function* uploadFilesStep(inputId, outputId) {\n",
              "  const inputElement = document.getElementById(inputId);\n",
              "  inputElement.disabled = false;\n",
              "\n",
              "  const outputElement = document.getElementById(outputId);\n",
              "  outputElement.innerHTML = '';\n",
              "\n",
              "  const pickedPromise = new Promise((resolve) => {\n",
              "    inputElement.addEventListener('change', (e) => {\n",
              "      resolve(e.target.files);\n",
              "    });\n",
              "  });\n",
              "\n",
              "  const cancel = document.createElement('button');\n",
              "  inputElement.parentElement.appendChild(cancel);\n",
              "  cancel.textContent = 'Cancel upload';\n",
              "  const cancelPromise = new Promise((resolve) => {\n",
              "    cancel.onclick = () => {\n",
              "      resolve(null);\n",
              "    };\n",
              "  });\n",
              "\n",
              "  // Wait for the user to pick the files.\n",
              "  const files = yield {\n",
              "    promise: Promise.race([pickedPromise, cancelPromise]),\n",
              "    response: {\n",
              "      action: 'starting',\n",
              "    }\n",
              "  };\n",
              "\n",
              "  cancel.remove();\n",
              "\n",
              "  // Disable the input element since further picks are not allowed.\n",
              "  inputElement.disabled = true;\n",
              "\n",
              "  if (!files) {\n",
              "    return {\n",
              "      response: {\n",
              "        action: 'complete',\n",
              "      }\n",
              "    };\n",
              "  }\n",
              "\n",
              "  for (const file of files) {\n",
              "    const li = document.createElement('li');\n",
              "    li.append(span(file.name, {fontWeight: 'bold'}));\n",
              "    li.append(span(\n",
              "        `(${file.type || 'n/a'}) - ${file.size} bytes, ` +\n",
              "        `last modified: ${\n",
              "            file.lastModifiedDate ? file.lastModifiedDate.toLocaleDateString() :\n",
              "                                    'n/a'} - `));\n",
              "    const percent = span('0% done');\n",
              "    li.appendChild(percent);\n",
              "\n",
              "    outputElement.appendChild(li);\n",
              "\n",
              "    const fileDataPromise = new Promise((resolve) => {\n",
              "      const reader = new FileReader();\n",
              "      reader.onload = (e) => {\n",
              "        resolve(e.target.result);\n",
              "      };\n",
              "      reader.readAsArrayBuffer(file);\n",
              "    });\n",
              "    // Wait for the data to be ready.\n",
              "    let fileData = yield {\n",
              "      promise: fileDataPromise,\n",
              "      response: {\n",
              "        action: 'continue',\n",
              "      }\n",
              "    };\n",
              "\n",
              "    // Use a chunked sending to avoid message size limits. See b/62115660.\n",
              "    let position = 0;\n",
              "    do {\n",
              "      const length = Math.min(fileData.byteLength - position, MAX_PAYLOAD_SIZE);\n",
              "      const chunk = new Uint8Array(fileData, position, length);\n",
              "      position += length;\n",
              "\n",
              "      const base64 = btoa(String.fromCharCode.apply(null, chunk));\n",
              "      yield {\n",
              "        response: {\n",
              "          action: 'append',\n",
              "          file: file.name,\n",
              "          data: base64,\n",
              "        },\n",
              "      };\n",
              "\n",
              "      let percentDone = fileData.byteLength === 0 ?\n",
              "          100 :\n",
              "          Math.round((position / fileData.byteLength) * 100);\n",
              "      percent.textContent = `${percentDone}% done`;\n",
              "\n",
              "    } while (position < fileData.byteLength);\n",
              "  }\n",
              "\n",
              "  // All done.\n",
              "  yield {\n",
              "    response: {\n",
              "      action: 'complete',\n",
              "    }\n",
              "  };\n",
              "}\n",
              "\n",
              "scope.google = scope.google || {};\n",
              "scope.google.colab = scope.google.colab || {};\n",
              "scope.google.colab._files = {\n",
              "  _uploadFiles,\n",
              "  _uploadFilesContinue,\n",
              "};\n",
              "})(self);\n",
              "</script> "
            ]
          },
          "metadata": {}
        },
        {
          "output_type": "stream",
          "name": "stdout",
          "text": [
            "Saving CBF_Cleaned.csv to CBF_Cleaned.csv\n",
            "Dataset berhasil dimuat!\n",
            "Shape: (236, 9)\n",
            "\n",
            "Kolom: ['Unnamed: 0', 'nama_tempat', 'rating', 'jumlah_ulasan', 'alamat', 'link', 'thumbnail', 'kategori', 'content']\n"
          ]
        }
      ]
    },
    {
      "cell_type": "markdown",
      "source": [
        "# **3. Data Wrangling**"
      ],
      "metadata": {
        "id": "Ngqhm4q0v7Mc"
      }
    },
    {
      "cell_type": "markdown",
      "source": [
        "## 3.1. Statistics Descriptive"
      ],
      "metadata": {
        "id": "WKqSc5xAwCs_"
      }
    },
    {
      "cell_type": "code",
      "source": [
        "# Ringkasan data\n",
        "df.info()"
      ],
      "metadata": {
        "colab": {
          "base_uri": "https://localhost:8080/"
        },
        "id": "kX2UQMpOv39-",
        "outputId": "cca1f55c-7ab9-4bb9-8ee5-6a3b2547a7fd"
      },
      "execution_count": 3,
      "outputs": [
        {
          "output_type": "stream",
          "name": "stdout",
          "text": [
            "<class 'pandas.core.frame.DataFrame'>\n",
            "RangeIndex: 236 entries, 0 to 235\n",
            "Data columns (total 9 columns):\n",
            " #   Column         Non-Null Count  Dtype  \n",
            "---  ------         --------------  -----  \n",
            " 0   Unnamed: 0     236 non-null    int64  \n",
            " 1   nama_tempat    236 non-null    object \n",
            " 2   rating         236 non-null    float64\n",
            " 3   jumlah_ulasan  236 non-null    float64\n",
            " 4   alamat         236 non-null    object \n",
            " 5   link           236 non-null    object \n",
            " 6   thumbnail      236 non-null    object \n",
            " 7   kategori       236 non-null    object \n",
            " 8   content        236 non-null    object \n",
            "dtypes: float64(2), int64(1), object(6)\n",
            "memory usage: 16.7+ KB\n"
          ]
        }
      ]
    },
    {
      "cell_type": "code",
      "source": [
        "df.describe()"
      ],
      "metadata": {
        "colab": {
          "base_uri": "https://localhost:8080/",
          "height": 300
        },
        "id": "Uj92r0ZBwfQa",
        "outputId": "1641be7d-1523-44d7-f74c-e6ac03e4f478"
      },
      "execution_count": 4,
      "outputs": [
        {
          "output_type": "execute_result",
          "data": {
            "text/plain": [
              "       Unnamed: 0      rating  jumlah_ulasan\n",
              "count  236.000000  236.000000     236.000000\n",
              "mean   143.250000    4.398729    1568.355932\n",
              "std     88.634229    0.276218    3210.861940\n",
              "min      0.000000    3.000000       1.000000\n",
              "25%     64.500000    4.300000     117.750000\n",
              "50%    142.500000    4.400000     394.500000\n",
              "75%    217.250000    4.600000    1435.000000\n",
              "max    294.000000    5.000000   24427.000000"
            ],
            "text/html": [
              "\n",
              "  <div id=\"df-ef2d59a0-2640-4210-86a1-73611b13bad5\" class=\"colab-df-container\">\n",
              "    <div>\n",
              "<style scoped>\n",
              "    .dataframe tbody tr th:only-of-type {\n",
              "        vertical-align: middle;\n",
              "    }\n",
              "\n",
              "    .dataframe tbody tr th {\n",
              "        vertical-align: top;\n",
              "    }\n",
              "\n",
              "    .dataframe thead th {\n",
              "        text-align: right;\n",
              "    }\n",
              "</style>\n",
              "<table border=\"1\" class=\"dataframe\">\n",
              "  <thead>\n",
              "    <tr style=\"text-align: right;\">\n",
              "      <th></th>\n",
              "      <th>Unnamed: 0</th>\n",
              "      <th>rating</th>\n",
              "      <th>jumlah_ulasan</th>\n",
              "    </tr>\n",
              "  </thead>\n",
              "  <tbody>\n",
              "    <tr>\n",
              "      <th>count</th>\n",
              "      <td>236.000000</td>\n",
              "      <td>236.000000</td>\n",
              "      <td>236.000000</td>\n",
              "    </tr>\n",
              "    <tr>\n",
              "      <th>mean</th>\n",
              "      <td>143.250000</td>\n",
              "      <td>4.398729</td>\n",
              "      <td>1568.355932</td>\n",
              "    </tr>\n",
              "    <tr>\n",
              "      <th>std</th>\n",
              "      <td>88.634229</td>\n",
              "      <td>0.276218</td>\n",
              "      <td>3210.861940</td>\n",
              "    </tr>\n",
              "    <tr>\n",
              "      <th>min</th>\n",
              "      <td>0.000000</td>\n",
              "      <td>3.000000</td>\n",
              "      <td>1.000000</td>\n",
              "    </tr>\n",
              "    <tr>\n",
              "      <th>25%</th>\n",
              "      <td>64.500000</td>\n",
              "      <td>4.300000</td>\n",
              "      <td>117.750000</td>\n",
              "    </tr>\n",
              "    <tr>\n",
              "      <th>50%</th>\n",
              "      <td>142.500000</td>\n",
              "      <td>4.400000</td>\n",
              "      <td>394.500000</td>\n",
              "    </tr>\n",
              "    <tr>\n",
              "      <th>75%</th>\n",
              "      <td>217.250000</td>\n",
              "      <td>4.600000</td>\n",
              "      <td>1435.000000</td>\n",
              "    </tr>\n",
              "    <tr>\n",
              "      <th>max</th>\n",
              "      <td>294.000000</td>\n",
              "      <td>5.000000</td>\n",
              "      <td>24427.000000</td>\n",
              "    </tr>\n",
              "  </tbody>\n",
              "</table>\n",
              "</div>\n",
              "    <div class=\"colab-df-buttons\">\n",
              "\n",
              "  <div class=\"colab-df-container\">\n",
              "    <button class=\"colab-df-convert\" onclick=\"convertToInteractive('df-ef2d59a0-2640-4210-86a1-73611b13bad5')\"\n",
              "            title=\"Convert this dataframe to an interactive table.\"\n",
              "            style=\"display:none;\">\n",
              "\n",
              "  <svg xmlns=\"http://www.w3.org/2000/svg\" height=\"24px\" viewBox=\"0 -960 960 960\">\n",
              "    <path d=\"M120-120v-720h720v720H120Zm60-500h600v-160H180v160Zm220 220h160v-160H400v160Zm0 220h160v-160H400v160ZM180-400h160v-160H180v160Zm440 0h160v-160H620v160ZM180-180h160v-160H180v160Zm440 0h160v-160H620v160Z\"/>\n",
              "  </svg>\n",
              "    </button>\n",
              "\n",
              "  <style>\n",
              "    .colab-df-container {\n",
              "      display:flex;\n",
              "      gap: 12px;\n",
              "    }\n",
              "\n",
              "    .colab-df-convert {\n",
              "      background-color: #E8F0FE;\n",
              "      border: none;\n",
              "      border-radius: 50%;\n",
              "      cursor: pointer;\n",
              "      display: none;\n",
              "      fill: #1967D2;\n",
              "      height: 32px;\n",
              "      padding: 0 0 0 0;\n",
              "      width: 32px;\n",
              "    }\n",
              "\n",
              "    .colab-df-convert:hover {\n",
              "      background-color: #E2EBFA;\n",
              "      box-shadow: 0px 1px 2px rgba(60, 64, 67, 0.3), 0px 1px 3px 1px rgba(60, 64, 67, 0.15);\n",
              "      fill: #174EA6;\n",
              "    }\n",
              "\n",
              "    .colab-df-buttons div {\n",
              "      margin-bottom: 4px;\n",
              "    }\n",
              "\n",
              "    [theme=dark] .colab-df-convert {\n",
              "      background-color: #3B4455;\n",
              "      fill: #D2E3FC;\n",
              "    }\n",
              "\n",
              "    [theme=dark] .colab-df-convert:hover {\n",
              "      background-color: #434B5C;\n",
              "      box-shadow: 0px 1px 3px 1px rgba(0, 0, 0, 0.15);\n",
              "      filter: drop-shadow(0px 1px 2px rgba(0, 0, 0, 0.3));\n",
              "      fill: #FFFFFF;\n",
              "    }\n",
              "  </style>\n",
              "\n",
              "    <script>\n",
              "      const buttonEl =\n",
              "        document.querySelector('#df-ef2d59a0-2640-4210-86a1-73611b13bad5 button.colab-df-convert');\n",
              "      buttonEl.style.display =\n",
              "        google.colab.kernel.accessAllowed ? 'block' : 'none';\n",
              "\n",
              "      async function convertToInteractive(key) {\n",
              "        const element = document.querySelector('#df-ef2d59a0-2640-4210-86a1-73611b13bad5');\n",
              "        const dataTable =\n",
              "          await google.colab.kernel.invokeFunction('convertToInteractive',\n",
              "                                                    [key], {});\n",
              "        if (!dataTable) return;\n",
              "\n",
              "        const docLinkHtml = 'Like what you see? Visit the ' +\n",
              "          '<a target=\"_blank\" href=https://colab.research.google.com/notebooks/data_table.ipynb>data table notebook</a>'\n",
              "          + ' to learn more about interactive tables.';\n",
              "        element.innerHTML = '';\n",
              "        dataTable['output_type'] = 'display_data';\n",
              "        await google.colab.output.renderOutput(dataTable, element);\n",
              "        const docLink = document.createElement('div');\n",
              "        docLink.innerHTML = docLinkHtml;\n",
              "        element.appendChild(docLink);\n",
              "      }\n",
              "    </script>\n",
              "  </div>\n",
              "\n",
              "\n",
              "    <div id=\"df-114c7672-1f9b-491d-b788-11abe1370ed9\">\n",
              "      <button class=\"colab-df-quickchart\" onclick=\"quickchart('df-114c7672-1f9b-491d-b788-11abe1370ed9')\"\n",
              "                title=\"Suggest charts\"\n",
              "                style=\"display:none;\">\n",
              "\n",
              "<svg xmlns=\"http://www.w3.org/2000/svg\" height=\"24px\"viewBox=\"0 0 24 24\"\n",
              "     width=\"24px\">\n",
              "    <g>\n",
              "        <path d=\"M19 3H5c-1.1 0-2 .9-2 2v14c0 1.1.9 2 2 2h14c1.1 0 2-.9 2-2V5c0-1.1-.9-2-2-2zM9 17H7v-7h2v7zm4 0h-2V7h2v10zm4 0h-2v-4h2v4z\"/>\n",
              "    </g>\n",
              "</svg>\n",
              "      </button>\n",
              "\n",
              "<style>\n",
              "  .colab-df-quickchart {\n",
              "      --bg-color: #E8F0FE;\n",
              "      --fill-color: #1967D2;\n",
              "      --hover-bg-color: #E2EBFA;\n",
              "      --hover-fill-color: #174EA6;\n",
              "      --disabled-fill-color: #AAA;\n",
              "      --disabled-bg-color: #DDD;\n",
              "  }\n",
              "\n",
              "  [theme=dark] .colab-df-quickchart {\n",
              "      --bg-color: #3B4455;\n",
              "      --fill-color: #D2E3FC;\n",
              "      --hover-bg-color: #434B5C;\n",
              "      --hover-fill-color: #FFFFFF;\n",
              "      --disabled-bg-color: #3B4455;\n",
              "      --disabled-fill-color: #666;\n",
              "  }\n",
              "\n",
              "  .colab-df-quickchart {\n",
              "    background-color: var(--bg-color);\n",
              "    border: none;\n",
              "    border-radius: 50%;\n",
              "    cursor: pointer;\n",
              "    display: none;\n",
              "    fill: var(--fill-color);\n",
              "    height: 32px;\n",
              "    padding: 0;\n",
              "    width: 32px;\n",
              "  }\n",
              "\n",
              "  .colab-df-quickchart:hover {\n",
              "    background-color: var(--hover-bg-color);\n",
              "    box-shadow: 0 1px 2px rgba(60, 64, 67, 0.3), 0 1px 3px 1px rgba(60, 64, 67, 0.15);\n",
              "    fill: var(--button-hover-fill-color);\n",
              "  }\n",
              "\n",
              "  .colab-df-quickchart-complete:disabled,\n",
              "  .colab-df-quickchart-complete:disabled:hover {\n",
              "    background-color: var(--disabled-bg-color);\n",
              "    fill: var(--disabled-fill-color);\n",
              "    box-shadow: none;\n",
              "  }\n",
              "\n",
              "  .colab-df-spinner {\n",
              "    border: 2px solid var(--fill-color);\n",
              "    border-color: transparent;\n",
              "    border-bottom-color: var(--fill-color);\n",
              "    animation:\n",
              "      spin 1s steps(1) infinite;\n",
              "  }\n",
              "\n",
              "  @keyframes spin {\n",
              "    0% {\n",
              "      border-color: transparent;\n",
              "      border-bottom-color: var(--fill-color);\n",
              "      border-left-color: var(--fill-color);\n",
              "    }\n",
              "    20% {\n",
              "      border-color: transparent;\n",
              "      border-left-color: var(--fill-color);\n",
              "      border-top-color: var(--fill-color);\n",
              "    }\n",
              "    30% {\n",
              "      border-color: transparent;\n",
              "      border-left-color: var(--fill-color);\n",
              "      border-top-color: var(--fill-color);\n",
              "      border-right-color: var(--fill-color);\n",
              "    }\n",
              "    40% {\n",
              "      border-color: transparent;\n",
              "      border-right-color: var(--fill-color);\n",
              "      border-top-color: var(--fill-color);\n",
              "    }\n",
              "    60% {\n",
              "      border-color: transparent;\n",
              "      border-right-color: var(--fill-color);\n",
              "    }\n",
              "    80% {\n",
              "      border-color: transparent;\n",
              "      border-right-color: var(--fill-color);\n",
              "      border-bottom-color: var(--fill-color);\n",
              "    }\n",
              "    90% {\n",
              "      border-color: transparent;\n",
              "      border-bottom-color: var(--fill-color);\n",
              "    }\n",
              "  }\n",
              "</style>\n",
              "\n",
              "      <script>\n",
              "        async function quickchart(key) {\n",
              "          const quickchartButtonEl =\n",
              "            document.querySelector('#' + key + ' button');\n",
              "          quickchartButtonEl.disabled = true;  // To prevent multiple clicks.\n",
              "          quickchartButtonEl.classList.add('colab-df-spinner');\n",
              "          try {\n",
              "            const charts = await google.colab.kernel.invokeFunction(\n",
              "                'suggestCharts', [key], {});\n",
              "          } catch (error) {\n",
              "            console.error('Error during call to suggestCharts:', error);\n",
              "          }\n",
              "          quickchartButtonEl.classList.remove('colab-df-spinner');\n",
              "          quickchartButtonEl.classList.add('colab-df-quickchart-complete');\n",
              "        }\n",
              "        (() => {\n",
              "          let quickchartButtonEl =\n",
              "            document.querySelector('#df-114c7672-1f9b-491d-b788-11abe1370ed9 button');\n",
              "          quickchartButtonEl.style.display =\n",
              "            google.colab.kernel.accessAllowed ? 'block' : 'none';\n",
              "        })();\n",
              "      </script>\n",
              "    </div>\n",
              "\n",
              "    </div>\n",
              "  </div>\n"
            ],
            "application/vnd.google.colaboratory.intrinsic+json": {
              "type": "dataframe",
              "summary": "{\n  \"name\": \"df\",\n  \"rows\": 8,\n  \"fields\": [\n    {\n      \"column\": \"Unnamed: 0\",\n      \"properties\": {\n        \"dtype\": \"number\",\n        \"std\": 97.32739327302552,\n        \"min\": 0.0,\n        \"max\": 294.0,\n        \"num_unique_values\": 8,\n        \"samples\": [\n          143.25,\n          142.5,\n          236.0\n        ],\n        \"semantic_type\": \"\",\n        \"description\": \"\"\n      }\n    },\n    {\n      \"column\": \"rating\",\n      \"properties\": {\n        \"dtype\": \"number\",\n        \"std\": 82.1406250911571,\n        \"min\": 0.27621775748352,\n        \"max\": 236.0,\n        \"num_unique_values\": 8,\n        \"samples\": [\n          4.398728813559321,\n          4.4,\n          236.0\n        ],\n        \"semantic_type\": \"\",\n        \"description\": \"\"\n      }\n    },\n    {\n      \"column\": \"jumlah_ulasan\",\n      \"properties\": {\n        \"dtype\": \"number\",\n        \"std\": 8354.31400009464,\n        \"min\": 1.0,\n        \"max\": 24427.0,\n        \"num_unique_values\": 8,\n        \"samples\": [\n          1568.3559322033898,\n          394.5,\n          236.0\n        ],\n        \"semantic_type\": \"\",\n        \"description\": \"\"\n      }\n    }\n  ]\n}"
            }
          },
          "metadata": {},
          "execution_count": 4
        }
      ]
    },
    {
      "cell_type": "markdown",
      "source": [
        "## 3.2. Handling Missing Values"
      ],
      "metadata": {
        "id": "2Vj8GTZZRuTF"
      }
    },
    {
      "cell_type": "code",
      "source": [
        "df.isnull().sum()"
      ],
      "metadata": {
        "colab": {
          "base_uri": "https://localhost:8080/",
          "height": 366
        },
        "id": "KuY2JJq3Rs_b",
        "outputId": "71b8e7f8-25fe-48ef-a34c-9b04f6a7f67f"
      },
      "execution_count": 5,
      "outputs": [
        {
          "output_type": "execute_result",
          "data": {
            "text/plain": [
              "Unnamed: 0       0\n",
              "nama_tempat      0\n",
              "rating           0\n",
              "jumlah_ulasan    0\n",
              "alamat           0\n",
              "link             0\n",
              "thumbnail        0\n",
              "kategori         0\n",
              "content          0\n",
              "dtype: int64"
            ],
            "text/html": [
              "<div>\n",
              "<style scoped>\n",
              "    .dataframe tbody tr th:only-of-type {\n",
              "        vertical-align: middle;\n",
              "    }\n",
              "\n",
              "    .dataframe tbody tr th {\n",
              "        vertical-align: top;\n",
              "    }\n",
              "\n",
              "    .dataframe thead th {\n",
              "        text-align: right;\n",
              "    }\n",
              "</style>\n",
              "<table border=\"1\" class=\"dataframe\">\n",
              "  <thead>\n",
              "    <tr style=\"text-align: right;\">\n",
              "      <th></th>\n",
              "      <th>0</th>\n",
              "    </tr>\n",
              "  </thead>\n",
              "  <tbody>\n",
              "    <tr>\n",
              "      <th>Unnamed: 0</th>\n",
              "      <td>0</td>\n",
              "    </tr>\n",
              "    <tr>\n",
              "      <th>nama_tempat</th>\n",
              "      <td>0</td>\n",
              "    </tr>\n",
              "    <tr>\n",
              "      <th>rating</th>\n",
              "      <td>0</td>\n",
              "    </tr>\n",
              "    <tr>\n",
              "      <th>jumlah_ulasan</th>\n",
              "      <td>0</td>\n",
              "    </tr>\n",
              "    <tr>\n",
              "      <th>alamat</th>\n",
              "      <td>0</td>\n",
              "    </tr>\n",
              "    <tr>\n",
              "      <th>link</th>\n",
              "      <td>0</td>\n",
              "    </tr>\n",
              "    <tr>\n",
              "      <th>thumbnail</th>\n",
              "      <td>0</td>\n",
              "    </tr>\n",
              "    <tr>\n",
              "      <th>kategori</th>\n",
              "      <td>0</td>\n",
              "    </tr>\n",
              "    <tr>\n",
              "      <th>content</th>\n",
              "      <td>0</td>\n",
              "    </tr>\n",
              "  </tbody>\n",
              "</table>\n",
              "</div><br><label><b>dtype:</b> int64</label>"
            ]
          },
          "metadata": {},
          "execution_count": 5
        }
      ]
    },
    {
      "cell_type": "markdown",
      "source": [
        "## 3.3. Handling Duplicated Data"
      ],
      "metadata": {
        "id": "S0CYRwJ9Rzjh"
      }
    },
    {
      "cell_type": "code",
      "source": [
        "df.duplicated().sum()"
      ],
      "metadata": {
        "colab": {
          "base_uri": "https://localhost:8080/"
        },
        "id": "J82z64KOR150",
        "outputId": "d2dc14ea-fde7-4b9a-c8ff-1d473d4d9b92"
      },
      "execution_count": 6,
      "outputs": [
        {
          "output_type": "execute_result",
          "data": {
            "text/plain": [
              "np.int64(0)"
            ]
          },
          "metadata": {},
          "execution_count": 6
        }
      ]
    },
    {
      "cell_type": "markdown",
      "source": [
        "# **4. EDA**"
      ],
      "metadata": {
        "id": "JNsKpc4le0qu"
      }
    },
    {
      "cell_type": "markdown",
      "source": [
        "## 4.1. Feature Distribution."
      ],
      "metadata": {
        "id": "5YuGmJU5w0d_"
      }
    },
    {
      "cell_type": "code",
      "source": [
        "def perform_eda(df):\n",
        "    \"\"\"Melakukan analisis data eksploratif\"\"\"\n",
        "\n",
        "    # Visualizations\n",
        "    fig, axes = plt.subplots(2, 2, figsize=(15, 10))\n",
        "\n",
        "    # Rating distribution\n",
        "    axes[0,0].hist(df['rating'], bins=20, alpha=0.7, color='skyblue')\n",
        "    axes[0,0].set_title('Distribusi Rating')\n",
        "    axes[0,0].set_xlabel('Rating')\n",
        "    axes[0,0].set_ylabel('Frequency')\n",
        "\n",
        "    # Reviews count distribution\n",
        "    axes[0,1].hist(df['jumlah_ulasan'], bins=20, alpha=0.7, color='lightgreen')\n",
        "    axes[0,1].set_title('Distribusi Jumlah Ulasan')\n",
        "    axes[0,1].set_xlabel('Jumlah Ulasan')\n",
        "    axes[0,1].set_ylabel('Frequency')\n",
        "\n",
        "    # Rating vs Reviews scatter\n",
        "    axes[1,0].scatter(df['rating'], df['jumlah_ulasan'], alpha=0.6)\n",
        "    axes[1,0].set_title('Rating vs Jumlah Ulasan')\n",
        "    axes[1,0].set_xlabel('Rating')\n",
        "    axes[1,0].set_ylabel('Jumlah Ulasan')\n",
        "\n",
        "    # Top locations by rating\n",
        "    top_ratings = df.nlargest(5, 'rating')\n",
        "    axes[1,1].barh(top_ratings['nama_tempat'], top_ratings['rating'])\n",
        "    axes[1,1].set_title('Top 5 Tempat dengan Rating Tertinggi')\n",
        "    axes[1,1].set_xlabel('Rating')\n",
        "\n",
        "    plt.tight_layout()\n",
        "    plt.show()\n",
        "\n",
        "    return df\n",
        "\n",
        "# Perform EDA\n",
        "df = perform_eda(df)"
      ],
      "metadata": {
        "colab": {
          "base_uri": "https://localhost:8080/",
          "height": 793
        },
        "id": "7u872aBpwrz0",
        "outputId": "c2983eef-e86a-41ed-9163-4ce07830c221"
      },
      "execution_count": 10,
      "outputs": [
        {
          "output_type": "display_data",
          "data": {
            "text/plain": [
              "<Figure size 1500x1000 with 4 Axes>"
            ],
            "image/png": "[encoded data removed]"
          },
          "metadata": {}
        }
      ]
    },
    {
      "cell_type": "markdown",
      "source": [
        "# **5. Preprocessing**"
      ],
      "metadata": {
        "id": "M6SyKT3uYRQr"
      }
    },
    {
      "cell_type": "code",
      "source": [
        "class IndonesianTextPreprocessor:\n",
        "    def __init__(self):\n",
        "        # Initialize Sastrawi components\n",
        "        self.stemmer = StemmerFactory().create_stemmer()\n",
        "        self.stopword_remover = StopWordRemoverFactory().create_stop_word_remover()\n",
        "\n",
        "        # Additional Indonesian stopwords\n",
        "        self.additional_stopwords = {\n",
        "            'wisata', 'alam', 'tempat', 'lokasi', 'indonesia', 'sumatera', 'utara',\n",
        "            'kabupaten', 'kecamatan', 'kec', 'jalan', 'jl', 'desa', 'kelurahan'\n",
        "        }\n",
        "\n",
        "    def clean_text(self, text):\n",
        "        \"\"\"Membersihkan teks dari karakter khusus\"\"\"\n",
        "        if pd.isna(text):\n",
        "            return \"\"\n",
        "\n",
        "        # Convert to lowercase\n",
        "        text = str(text).lower()\n",
        "\n",
        "        # Remove URLs\n",
        "        text = re.sub(r'http\\S+|www.\\S+', '', text)\n",
        "\n",
        "        # Remove email addresses\n",
        "        text = re.sub(r'\\S+@\\S+', '', text)\n",
        "\n",
        "        # Remove punctuation and numbers\n",
        "        text = re.sub(r'[^\\w\\s]', ' ', text)\n",
        "        text = re.sub(r'\\d+', '', text)\n",
        "\n",
        "        # Remove extra whitespace\n",
        "        text = re.sub(r'\\s+', ' ', text).strip()\n",
        "\n",
        "        return text\n",
        "\n",
        "    def remove_stopwords(self, text):\n",
        "        \"\"\"Menghapus stopwords\"\"\"\n",
        "        # Use Sastrawi stopword remover\n",
        "        text = self.stopword_remover.remove(text)\n",
        "\n",
        "        # Remove additional stopwords\n",
        "        words = text.split()\n",
        "        words = [word for word in words if word not in self.additional_stopwords]\n",
        "\n",
        "        return ' '.join(words)\n",
        "\n",
        "    def stem_text(self, text):\n",
        "        \"\"\"Melakukan stemming\"\"\"\n",
        "        return self.stemmer.stem(text)\n",
        "\n",
        "    def preprocess(self, text):\n",
        "        \"\"\"Pipeline preprocessing lengkap\"\"\"\n",
        "        text = self.clean_text(text)\n",
        "        text = self.remove_stopwords(text)\n",
        "        text = self.stem_text(text)\n",
        "        return text\n",
        "\n",
        "# Initialize preprocessor\n",
        "preprocessor = IndonesianTextPreprocessor()\n",
        "\n",
        "def preprocess_data(df):\n",
        "    \"\"\"Memproses data untuk model\"\"\"\n",
        "    print(\"=\"*50)\n",
        "    print(\"DATA PREPROCESSING\")\n",
        "    print(\"=\"*50)\n",
        "\n",
        "    # Create processed dataframe\n",
        "    processed_df = df.copy()\n",
        "\n",
        "    # Handle missing values\n",
        "    processed_df['rating'] = processed_df['rating'].fillna(processed_df['rating'].mean())\n",
        "    processed_df['jumlah_ulasan'] = processed_df['jumlah_ulasan'].fillna(0)\n",
        "    processed_df['content'] = processed_df['content'].fillna('')\n",
        "    processed_df['alamat'] = processed_df['alamat'].fillna('')\n",
        "\n",
        "    # Combine content and address for better feature extraction\n",
        "    processed_df['combined_text'] = processed_df['content'] + ' ' + processed_df['alamat']\n",
        "\n",
        "    # Preprocess text\n",
        "    print(\"Memproses teks...\")\n",
        "    processed_df['processed_text'] = processed_df['combined_text'].apply(\n",
        "        lambda x: preprocessor.preprocess(x)\n",
        "    )\n",
        "\n",
        "    # Create quality score (combination of rating and review count)\n",
        "    scaler = MinMaxScaler()\n",
        "    processed_df['normalized_reviews'] = scaler.fit_transform(\n",
        "        processed_df[['jumlah_ulasan']]\n",
        "    ).flatten()\n",
        "    processed_df['quality_score'] = (\n",
        "        processed_df['rating'] * 0.7 +\n",
        "        processed_df['normalized_reviews'] * 0.3\n",
        "    )\n",
        "\n",
        "    print(\"Preprocessing selesai!\")\n",
        "    print(f\"Sample processed text: {processed_df['processed_text'].iloc[0][:100]}...\")\n",
        "\n",
        "    return processed_df\n",
        "\n",
        "# Preprocess data\n",
        "processed_df = preprocess_data(df)"
      ],
      "metadata": {
        "id": "gyccQT4oYOzf",
        "colab": {
          "base_uri": "https://localhost:8080/"
        },
        "outputId": "8f9b1bbd-430e-48a8-84fc-bfe6705502f8"
      },
      "execution_count": 11,
      "outputs": [
        {
          "output_type": "stream",
          "name": "stdout",
          "text": [
            "==================================================\n",
            "DATA PREPROCESSING\n",
            "==================================================\n",
            "Memproses teks...\n",
            "Preprocessing selesai!\n",
            "Sample processed text: datuk kwala indah sei suka batu bara kwala indah sei suka batu bara...\n"
          ]
        }
      ]
    },
    {
      "cell_type": "markdown",
      "source": [
        "# **6. Feature Extraction**"
      ],
      "metadata": {
        "id": "a4HM2QVCZMTg"
      }
    },
    {
      "cell_type": "code",
      "source": [
        "def extract_features(processed_df):\n",
        "    \"\"\"Ekstraksi fitur menggunakan TF-IDF\"\"\"\n",
        "    print(\"=\"*50)\n",
        "    print(\"FEATURE EXTRACTION\")\n",
        "    print(\"=\"*50)\n",
        "\n",
        "    # TF-IDF Vectorization\n",
        "    tfidf_vectorizer = TfidfVectorizer(\n",
        "        max_features=1000,  # Limit features for efficiency\n",
        "        ngram_range=(1, 2),  # Unigrams and bigrams\n",
        "        min_df=1,  # Minimum document frequency\n",
        "        max_df=0.8,  # Maximum document frequency\n",
        "        strip_accents='unicode',\n",
        "        lowercase=True\n",
        "    )\n",
        "\n",
        "    # Fit and transform\n",
        "    tfidf_matrix = tfidf_vectorizer.fit_transform(processed_df['processed_text'])\n",
        "\n",
        "    print(f\"TF-IDF Matrix Shape: {tfidf_matrix.shape}\")\n",
        "    print(f\"Feature Names (first 10): {tfidf_vectorizer.get_feature_names_out()[:10]}\")\n",
        "\n",
        "    return tfidf_matrix, tfidf_vectorizer\n",
        "\n",
        "# Extract features\n",
        "tfidf_matrix, tfidf_vectorizer = extract_features(processed_df)"
      ],
      "metadata": {
        "colab": {
          "base_uri": "https://localhost:8080/"
        },
        "id": "ezpr3aZgZG2r",
        "outputId": "80434663-c1aa-4df6-ad2a-358b73aa4f7f"
      },
      "execution_count": 12,
      "outputs": [
        {
          "output_type": "stream",
          "name": "stdout",
          "text": [
            "==================================================\n",
            "FEATURE EXTRACTION\n",
            "==================================================\n",
            "TF-IDF Matrix Shape: (236, 1000)\n",
            "Feature Names (first 10): ['abdul khadir' 'abdullah' 'abdullah lubis' 'aceh' 'aceh aek' 'ade'\n",
            " 'ade irma' 'aek' 'aek libung' 'aek nalas']\n"
          ]
        }
      ]
    },
    {
      "cell_type": "markdown",
      "source": [
        "# **7. COMPUTING COSINE SIMILARITY**"
      ],
      "metadata": {
        "id": "fF_fw4Qmj7sR"
      }
    },
    {
      "cell_type": "code",
      "source": [
        "def compute_similarity(tfidf_matrix):\n",
        "    \"\"\"Menghitung cosine similarity\"\"\"\n",
        "    print(\"=\"*50)\n",
        "    print(\"COMPUTING COSINE SIMILARITY\")\n",
        "    print(\"=\"*50)\n",
        "\n",
        "    # Compute cosine similarity\n",
        "    cosine_sim = cosine_similarity(tfidf_matrix, tfidf_matrix)\n",
        "\n",
        "    print(f\"Similarity Matrix Shape: {cosine_sim.shape}\")\n",
        "    print(f\"Sample similarities for first item: {cosine_sim[0][:5]}\")\n",
        "\n",
        "    return cosine_sim\n",
        "\n",
        "# Compute similarity\n",
        "cosine_sim = compute_similarity(tfidf_matrix)"
      ],
      "metadata": {
        "colab": {
          "base_uri": "https://localhost:8080/"
        },
        "id": "SqWe4g2BkA1r",
        "outputId": "9c99d61b-67bc-4d2d-ada6-4cd4c0927eaf"
      },
      "execution_count": 13,
      "outputs": [
        {
          "output_type": "stream",
          "name": "stdout",
          "text": [
            "==================================================\n",
            "COMPUTING COSINE SIMILARITY\n",
            "==================================================\n",
            "Similarity Matrix Shape: (236, 236)\n",
            "Sample similarities for first item: [1.         0.         0.         0.         0.04243175]\n"
          ]
        }
      ]
    },
    {
      "cell_type": "markdown",
      "source": [
        "# **8. Evaluation**"
      ],
      "metadata": {
        "id": "zGigglluI3cL"
      }
    },
    {
      "cell_type": "code",
      "source": [
        "class TourismRecommender:\n",
        "    def __init__(self, df, cosine_sim, tfidf_vectorizer):\n",
        "        self.df = df\n",
        "        self.cosine_sim = cosine_sim\n",
        "        self.tfidf_vectorizer = tfidf_vectorizer\n",
        "        self.indices = pd.Series(df.index, index=df['nama_tempat']).drop_duplicates()\n",
        "\n",
        "    def get_recommendations(self, place_name, top_n=5):\n",
        "        \"\"\"Mendapatkan rekomendasi berdasarkan nama tempat\"\"\"\n",
        "        try:\n",
        "            # Get index of the place\n",
        "            idx = self.indices[place_name]\n",
        "\n",
        "            # Get similarity scores\n",
        "            sim_scores = list(enumerate(self.cosine_sim[idx]))\n",
        "\n",
        "            # Sort by similarity (excluding the place itself)\n",
        "            sim_scores = sorted(sim_scores, key=lambda x: x[1], reverse=True)[1:top_n+1]\n",
        "\n",
        "            # Get indices of recommended places\n",
        "            place_indices = [i[0] for i in sim_scores]\n",
        "\n",
        "            # Create recommendation dataframe\n",
        "            recommendations = self.df.iloc[place_indices].copy()\n",
        "            recommendations['similarity_score'] = [score[1] for score in sim_scores]\n",
        "\n",
        "            return recommendations[['nama_tempat', 'rating', 'jumlah_ulasan',\n",
        "                                 'alamat', 'similarity_score']]\n",
        "\n",
        "        except KeyError:\n",
        "            return f\"Tempat '{place_name}' tidak ditemukan dalam dataset.\"\n",
        "\n",
        "    def get_recommendations_by_text(self, query_text, top_n=5):\n",
        "        \"\"\"Mendapatkan rekomendasi berdasarkan query text\"\"\"\n",
        "        # Preprocess query\n",
        "        processed_query = preprocessor.preprocess(query_text)\n",
        "\n",
        "        # Transform query to TF-IDF\n",
        "        query_tfidf = self.tfidf_vectorizer.transform([processed_query])\n",
        "\n",
        "        # Compute similarity with all places\n",
        "        query_sim = cosine_similarity(query_tfidf, tfidf_matrix).flatten()\n",
        "\n",
        "        # Get top similar places\n",
        "        similar_indices = query_sim.argsort()[-top_n:][::-1]\n",
        "\n",
        "        # Create recommendation dataframe\n",
        "        recommendations = self.df.iloc[similar_indices].copy()\n",
        "        recommendations['similarity_score'] = query_sim[similar_indices]\n",
        "\n",
        "        return recommendations[['nama_tempat', 'rating', 'jumlah_ulasan',\n",
        "                             'alamat', 'similarity_score']]\n",
        "\n",
        "# Initialize recommender\n",
        "recommender = TourismRecommender(processed_df, cosine_sim, tfidf_vectorizer)"
      ],
      "metadata": {
        "id": "-xDLIHzzCdGl"
      },
      "execution_count": 14,
      "outputs": []
    },
    {
      "cell_type": "markdown",
      "source": [
        "# **9. Inference**\n"
      ],
      "metadata": {
        "id": "RZDG6ZNTIft_"
      }
    },
    {
      "cell_type": "code",
      "source": [
        "def test_recommendations():\n",
        "    \"\"\"Test sistem rekomendasi\"\"\"\n",
        "    print(\"=\"*50)\n",
        "    print(\"TESTING RECOMMENDATION SYSTEM\")\n",
        "    print(\"=\"*50)\n",
        "\n",
        "    # Test 1: Recommendation by place name\n",
        "    print(\"Test 1: Rekomendasi berdasarkan nama tempat\")\n",
        "    print(\"-\" * 40)\n",
        "    place_name = processed_df['nama_tempat'].iloc[0]\n",
        "    print(f\"Mencari rekomendasi untuk: {place_name}\")\n",
        "\n",
        "    recommendations = recommender.get_recommendations(place_name, top_n=3)\n",
        "    print(recommendations)\n",
        "    print(\"\\n\")\n",
        "\n",
        "    # Test 2: Recommendation by query text\n",
        "    print(\"Test 2: Rekomendasi berdasarkan query text\")\n",
        "    print(\"-\" * 40)\n",
        "    query = \"bukit indah pemandangan alam\"\n",
        "    print(f\"Query: '{query}'\")\n",
        "\n",
        "    text_recommendations = recommender.get_recommendations_by_text(query, top_n=3)\n",
        "    print(text_recommendations)\n",
        "    print(\"\\n\")\n",
        "\n",
        "# Test the system\n",
        "test_recommendations()"
      ],
      "metadata": {
        "colab": {
          "base_uri": "https://localhost:8080/"
        },
        "id": "6G6Jie-1I1y_",
        "outputId": "97a1b8a5-985b-4bce-f340-2f37850fbb4b"
      },
      "execution_count": 15,
      "outputs": [
        {
          "output_type": "stream",
          "name": "stdout",
          "text": [
            "==================================================\n",
            "TESTING RECOMMENDATION SYSTEM\n",
            "==================================================\n",
            "Test 1: Rekomendasi berdasarkan nama tempat\n",
            "----------------------------------------\n",
            "Mencari rekomendasi untuk: Wisata Alam Datuk\n",
            "                               nama_tempat  rating  jumlah_ulasan  \\\n",
            "90                 Wisata Danau Palas Asri     4.3           57.0   \n",
            "204  SIMPANG BODREX (Kuliner Pasar Miring)     4.6           21.0   \n",
            "47                      Rekreasi Lau Penda     4.2          251.0   \n",
            "\n",
            "                                                alamat  similarity_score  \n",
            "90   Lalang, Kec. Medang Deras, Kabupaten Batu Bara...          0.340644  \n",
            "204  79W8+44Q, Sipare-Pare, Kec. Air Putih, Kabupat...          0.327570  \n",
            "47   FH44+2M8, Kwala Lau Bicik, Kutalimbaru, Tiang ...          0.166587  \n",
            "\n",
            "\n",
            "Test 2: Rekomendasi berdasarkan query text\n",
            "----------------------------------------\n",
            "Query: 'bukit indah pemandangan alam'\n",
            "                 nama_tempat  rating  jumlah_ulasan  \\\n",
            "41              Bukit Senyum     4.7          610.0   \n",
            "0          Wisata Alam Datuk     3.9         1152.0   \n",
            "22  Bukit Lawang Wisata Alam     4.5         1092.0   \n",
            "\n",
            "                                               alamat  similarity_score  \n",
            "41  JWPC+8C4, Motung, Kec. Ajibata, Toba, Sumatera...          0.324096  \n",
            "0   Kwala Indah, Kec. Sei Suka, Kabupaten Batu Bar...          0.219773  \n",
            "22  H42F+6XC, Jl. Orangutan, Bukit Lawang, Kec. Bo...          0.218778  \n",
            "\n",
            "\n"
          ]
        }
      ]
    },
    {
      "cell_type": "markdown",
      "source": [
        "# **10. Simpan Model**"
      ],
      "metadata": {
        "id": "z6dMlf8nkZpp"
      }
    },
    {
      "cell_type": "markdown",
      "source": [
        "## Saved Model"
      ],
      "metadata": {
        "id": "FA00KXGDIo5b"
      }
    },
    {
      "cell_type": "code",
      "source": [
        "import os, json, numpy as np\n",
        "\n",
        "# pastikan folder ada\n",
        "os.makedirs(\"model\", exist_ok=True)\n",
        "\n",
        "# siapkan data TF-IDF\n",
        "tv = tfidf_vectorizer\n",
        "\n",
        "# cast vocabulary_ ke int biasa\n",
        "vocab_py = {term: int(idx) for term, idx in tv.vocabulary_.items()}\n",
        "\n",
        "obj = {\n",
        "    \"vocab\": vocab_py,\n",
        "    \"idf\":   [float(x) for x in tv.idf_],  # pastikan jadi Python float\n",
        "    \"terms\": tv.get_feature_names_out().tolist()\n",
        "}\n",
        "\n",
        "# dump ke JSON\n",
        "with open('model/tfidf.json','w') as f:\n",
        "    json.dump(obj, f, ensure_ascii=False, indent=2)\n",
        "\n",
        "# simpan similarity matrix sebagai .npy\n",
        "np.save('model/cosine_sim.npy', cosine_sim)\n",
        "\n",
        "# jika butuh JSON juga, convert inner ke float\n",
        "cosine_list = [[float(x) for x in row] for row in cosine_sim]\n",
        "with open('model/cosine_sim.json','w') as f:\n",
        "    json.dump(cosine_list, f, ensure_ascii=False, indent=2)\n"
      ],
      "metadata": {
        "id": "OyRwjttvkf1y"
      },
      "execution_count": 16,
      "outputs": []
    },
    {
      "cell_type": "code",
      "source": [
        "import shutil\n",
        "\n",
        "# Zip folder model menjadi cbf_encoder.zip\n",
        "shutil.make_archive('model_cbf', 'zip', 'model')\n",
        "\n",
        "from google.colab import files\n",
        "files.download('model_cbf.zip')"
      ],
      "metadata": {
        "colab": {
          "base_uri": "https://localhost:8080/",
          "height": 17
        },
        "id": "I3SpK-IEk_C4",
        "outputId": "b6601c14-1322-4d23-e79c-fd096f1235ec"
      },
      "execution_count": 17,
      "outputs": [
        {
          "output_type": "display_data",
          "data": {
            "text/plain": [
              "<IPython.core.display.Javascript object>"
            ],
            "application/javascript": [
              "\n",
              "    async function download(id, filename, size) {\n",
              "      if (!google.colab.kernel.accessAllowed) {\n",
              "        return;\n",
              "      }\n",
              "      const div = document.createElement('div');\n",
              "      const label = document.createElement('label');\n",
              "      label.textContent = `Downloading \"${filename}\": `;\n",
              "      div.appendChild(label);\n",
              "      const progress = document.createElement('progress');\n",
              "      progress.max = size;\n",
              "      div.appendChild(progress);\n",
              "      document.body.appendChild(div);\n",
              "\n",
              "      const buffers = [];\n",
              "      let downloaded = 0;\n",
              "\n",
              "      const channel = await google.colab.kernel.comms.open(id);\n",
              "      // Send a message to notify the kernel that we're ready.\n",
              "      channel.send({})\n",
              "\n",
              "      for await (const message of channel.messages) {\n",
              "        // Send a message to notify the kernel that we're ready.\n",
              "        channel.send({})\n",
              "        if (message.buffers) {\n",
              "          for (const buffer of message.buffers) {\n",
              "            buffers.push(buffer);\n",
              "            downloaded += buffer.byteLength;\n",
              "            progress.value = downloaded;\n",
              "          }\n",
              "        }\n",
              "      }\n",
              "      const blob = new Blob(buffers, {type: 'application/binary'});\n",
              "      const a = document.createElement('a');\n",
              "      a.href = window.URL.createObjectURL(blob);\n",
              "      a.download = filename;\n",
              "      div.appendChild(a);\n",
              "      a.click();\n",
              "      div.remove();\n",
              "    }\n",
              "  "
            ]
          },
          "metadata": {}
        },
        {
          "output_type": "display_data",
          "data": {
            "text/plain": [
              "<IPython.core.display.Javascript object>"
            ],
            "application/javascript": [
              "download(\"download_c95c8cf2-0e8c-4357-bdf3-bd9b4ffc3125\", \"model_cbf.zip\", 315435)"
            ]
          },
          "metadata": {}
        }
      ]
    }
  ]
}